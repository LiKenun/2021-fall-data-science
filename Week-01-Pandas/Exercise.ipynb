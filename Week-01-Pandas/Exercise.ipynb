{
 "cells": [
  {
   "cell_type": "markdown",
   "metadata": {},
   "source": [
    "# Data wrangling with Pandas exercise\n",
    "* For this exercise we will be using the `listings.csv` data file."
   ]
  },
  {
   "cell_type": "code",
   "execution_count": null,
   "metadata": {},
   "outputs": [],
   "source": [
    "import numpy as np\n",
    "import pandas as pd\n",
    "from pandas import DataFrame\n",
    "from pandas.core.groupby import GroupBy\n",
    "from pandas import Series\n",
    "from pandas.io.formats.style import Styler"
   ]
  },
  {
   "cell_type": "markdown",
   "metadata": {},
   "source": [
    "# Load in the data file using `pd.read_csv()`"
   ]
  },
  {
   "cell_type": "code",
   "execution_count": null,
   "metadata": {},
   "outputs": [],
   "source": [
    "# Load data here\n",
    "\n",
    "df = pd.read_csv('data/listings.csv')\n",
    "df"
   ]
  },
  {
   "cell_type": "code",
   "execution_count": null,
   "metadata": {},
   "outputs": [],
   "source": [
    "from collections.abc import Iterable\n",
    "from functools import partial, reduce\n",
    "\n",
    "def flatten(list): # Recursivesly flattens a list of lists (and other stuff) into a one-dimentional list.\n",
    "    for sublist in list:\n",
    "        if isinstance(sublist, Iterable) and not isinstance(sublist, (str, bytes)): # Strings and bytes are iterable, but we really do not want to iterate those.\n",
    "            yield from flatten(sublist) # If there is a nested list, it will be flattened too.\n",
    "        else:\n",
    "            yield sublist # If the potential sublist cannot (or should not) be recursively processed, yield it as an item.\n",
    "\n",
    "def pipe(input, *args): # A functional utility function which enables writing code structured similarly to the F# |> operator\n",
    "    return reduce(lambda f, g: g(f),\n",
    "                  flatten(args), # Flatten any lists so that the final list of functions is one-dimensional.\n",
    "                  input) # Feed the first argument in as the input to the first function.\n",
    "\n",
    "def format_dataframe(*args, **kwargs): \n",
    "    return lambda dataframe: dataframe.style.format(*args, **kwargs)\n",
    "\n",
    "format_currency = '${:,.2f}'.format # $#,##0.00\n",
    "\n",
    "format_integer = '{:,.0f}'.format # $#,##0\n",
    "\n",
    "format_number = '{:,}'.format # $#,##0.#\n",
    "\n",
    "format_percentage = '{:.2%}'.format # 0.00%\n",
    "\n",
    "currency_series_to_string = partial(Series.to_string, float_format=format_currency)\n",
    "\n",
    "percentage_series_to_string = partial(Series.to_string, float_format=format_percentage)"
   ]
  },
  {
   "cell_type": "markdown",
   "metadata": {},
   "source": [
    "## Exercise 2 - Filtering\n",
    "\n",
    "Return the following subsets of the dataframe.\n",
    "\n",
    "1. How many listings are there with a price less than 100? \n",
    "\n",
    "\n",
    "2. Find how many listings there are in just Brooklyn.\n",
    "\n",
    "\n",
    "3. Find how many listings there are in Brooklyn with a price less than 100.\n",
    "\n",
    "\n",
    "4. Using `.isin()` select anyone that has the host name of Michael, David, John, and Daniel.\n",
    "\n",
    "\n",
    "5. Create a new column called `adjusted_price` that has $100 added to every listing in Williamsburg.  The prices for all other listings should be the same as the were before. \n",
    "\n",
    "\n",
    "6. What % of the rooms are private, and what % of the rooms are shared.  \n",
    "    * Hint, use `.value_counts()`\n"
   ]
  },
  {
   "cell_type": "code",
   "execution_count": null,
   "metadata": {},
   "outputs": [],
   "source": [
    "# 1. How many listings are there with a price less than 100? \n",
    "\n",
    "pipe(df.query('price < 100'),\n",
    "     len,\n",
    "     format_number,\n",
    "     print)"
   ]
  },
  {
   "cell_type": "code",
   "execution_count": null,
   "metadata": {},
   "outputs": [],
   "source": [
    "# 2. Make a new DataFrame of listings in Brooklyn named `df_bk` \n",
    "# and find how many listings in just Brooklyn.\n",
    "\n",
    "pipe(df.query('neighbourhood_group == \"Brooklyn\"'),\n",
    "     len,\n",
    "     format_number,\n",
    "     print)"
   ]
  },
  {
   "cell_type": "code",
   "execution_count": null,
   "metadata": {},
   "outputs": [],
   "source": [
    "# 3. Find how many listings there are in Brooklyn with a price less than 100.\n",
    "\n",
    "pipe(df.query('neighbourhood_group == \"Brooklyn\" & price < 100'),\n",
    "     len,\n",
    "     format_number,\n",
    "     print)"
   ]
  },
  {
   "cell_type": "code",
   "execution_count": null,
   "metadata": {},
   "outputs": [],
   "source": [
    "# 4. Using `.isin()` select anyone that has the host name of Michael, David, John, and Daniel.\n",
    "\n",
    "df[df.host_name.isin(['Michael', 'David', 'John', 'Daniel'])]"
   ]
  },
  {
   "cell_type": "code",
   "execution_count": null,
   "metadata": {},
   "outputs": [],
   "source": [
    "# 5. Create a new column called `adjusted_price` that has $100 added to every listing in Williamsburg.  \n",
    "# The prices for all other listings should be the same as the were before. \n",
    "\n",
    "def illustrate_adjusted_price(df): # Select a small subset of data to illustrate the adjusted price.\n",
    "    df_filtered = pipe(df[['id', 'neighbourhood', 'price', 'adjusted_price']], # Select the relevant columns.\n",
    "                       partial(DataFrame.groupby, by='neighbourhood'), # Group the data by neighbourhoods so that each neighbourhood is represented once.\n",
    "                       GroupBy.first, # Select the first row for each neighbourhood.\n",
    "                       DataFrame.reset_index) # Reset to numeric index by demoting neighbourhood to regular column.\n",
    "    return pipe(df_filtered.neighbourhood.eq('Williamsburg').idxmax(), # Index of Williamsburg in the filtered dataframe.\n",
    "                lambda index: slice(max(index - 5, 0), # 5 rows before the Williamsburg row\n",
    "                                    min(index + 6, len(df_filtered))), # 5 rows after the Williamsburg row\n",
    "                df_filtered.get, # 11 rows centered on Williamsburg\n",
    "                format_dataframe({'price': format_currency,\n",
    "                                  'adjusted_price': format_currency}))\n",
    "\n",
    "df['adjusted_price'] = np.where(df.neighbourhood == 'Williamsburg', df.price + 100, df.price) # Adjust price.\n",
    "illustrate_adjusted_price(df)"
   ]
  },
  {
   "cell_type": "code",
   "execution_count": null,
   "metadata": {},
   "outputs": [],
   "source": [
    "# 6. What % of the rooms are private, and what % of the rooms are shared.  \n",
    "\n",
    "pipe(df.room_type.value_counts(normalize=True), # Count the room types as a percentage of the total.\n",
    "     percentage_series_to_string,\n",
    "     print)"
   ]
  },
  {
   "cell_type": "markdown",
   "metadata": {},
   "source": [
    "# Exercise 3 - Grouping\n",
    "\n",
    "1. Using `groupby`, count how many listings are in each neighbourhood_group.\n",
    "\n",
    "\n",
    "2. Using `groupby`, find the mean price for each of the neighbourhood_groups. \n",
    "\n",
    "\n",
    "3. Using `groupby` and `.agg()`, find the min and max price for each of the neighbourhood_groups. \n",
    "\n",
    "\n",
    "4. Using `groupby`, find the median price for each room type in each neighbourhood_group.\n",
    "\n",
    "\n",
    "5. Using `groupby` and `.agg()`, find the count, min, max, mean, median, and std of the prices for each room type in each neighbourhood_group."
   ]
  },
  {
   "cell_type": "code",
   "execution_count": null,
   "metadata": {},
   "outputs": [],
   "source": [
    "# 1. Using `groupby`, count how many listings are in each neighbourhood_group.\n",
    "\n",
    "df_byneighbourhoods = df.groupby(by='neighbourhood_group')\n",
    "df_byneighbourhoods.id \\\n",
    "                   .agg(['count']) \\\n",
    "                   .style.format({'count': format_number})"
   ]
  },
  {
   "cell_type": "code",
   "execution_count": null,
   "metadata": {},
   "outputs": [],
   "source": [
    "# 2. Using `groupby`, find the mean price for each of the neighbourhood_groups. \n",
    "\n",
    "pipe(df_byneighbourhoods.price.mean(),\n",
    "     currency_series_to_string,\n",
    "     print)"
   ]
  },
  {
   "cell_type": "code",
   "execution_count": null,
   "metadata": {},
   "outputs": [],
   "source": [
    "# 3. Using `groupby` and `.agg()`, find the min and max price for each of the neighbourhood_groups. \n",
    "\n",
    "df_byneighbourhoods.price \\\n",
    "                   .agg(['min', 'max']) \\\n",
    "                   .style.format({'min': format_currency,\n",
    "                                  'max': format_currency})"
   ]
  },
  {
   "cell_type": "code",
   "execution_count": null,
   "metadata": {},
   "outputs": [],
   "source": [
    "# 4. Using `groupby`, find the mean price for each room type in each neighbourhood_group.\n",
    "\n",
    "df_byneighbourhood_byroom = df.groupby(by=['neighbourhood_group', 'room_type'])\n",
    "df_byneighbourhood_byroom.price \\\n",
    "                         .agg(['mean']) \\\n",
    "                         .style.format({'mean': format_currency})"
   ]
  },
  {
   "cell_type": "code",
   "execution_count": null,
   "metadata": {},
   "outputs": [],
   "source": [
    "# 5. Using `groupby` and `.agg()`, find the count, min, max, mean, median, and std of the prices \n",
    "# for each room type in each neighbourhood_group.\n",
    "\n",
    "df_byneighbourhood_byroom.price \\\n",
    "                         .agg(['count', 'min', 'max', 'mean', 'median', 'std']) \\\n",
    "                         .style.format({'count': format_number,\n",
    "                                        'min': format_currency,\n",
    "                                        'max': format_currency,\n",
    "                                        'mean': format_currency,\n",
    "                                        'median': format_currency,\n",
    "                                        'std': format_number})"
   ]
  },
  {
   "cell_type": "markdown",
   "metadata": {},
   "source": [
    "# Join and file saving.\n",
    "1. Load the `prices.csv` and the `n_listings.csv`\n",
    "\n",
    "\n",
    "2. Do join that keeps all the records for each table.\n",
    "    * Neighbourhood groups should include ['Bronx', 'Brooklyn', 'Manhattan', 'Queens', 'Staten Island',\n",
    "       'LongIsland']\n",
    "       \n",
    "       \n",
    "3. Save your joined csv as `joined.csv`\n",
    "\n",
    "\n",
    "4. Load your saved table and see if it looks the same or different that the DataFrame you used to create it. "
   ]
  },
  {
   "cell_type": "code",
   "execution_count": null,
   "metadata": {},
   "outputs": [],
   "source": [
    "# 1. Load the `prices.csv` and the `n_listings.csv`\n",
    "\n",
    "df_prices = pd.read_csv('data/prices.csv',\n",
    "                        sep=', ',\n",
    "                        index_col='neighbourhood_group')\n",
    "df_listings = pd.read_csv('data/n_listings.csv',\n",
    "                          sep=';',\n",
    "                          index_col='neighbourhood_group')\n",
    "print(f'Loaded {len(df_prices)} rows from prices and {len(df_listings)} rows from listings.')"
   ]
  },
  {
   "cell_type": "code",
   "execution_count": null,
   "metadata": {},
   "outputs": [],
   "source": [
    "# 2. Do join that keeps all the records for each table.\n",
    "\n",
    "df_prices_listings = df_prices.join(other=df_listings, how='outer')\n",
    "df_prices_listings.style.format({'mean_price': format_currency,\n",
    "                                 'n_listings': format_integer},\n",
    "                                na_rep='')"
   ]
  },
  {
   "cell_type": "code",
   "execution_count": null,
   "metadata": {},
   "outputs": [],
   "source": [
    "# 3. Save your joined csv as joined.csv\n",
    "\n",
    "df_prices_listings.to_csv('data/joined.csv')\n",
    "del df_prices_listings"
   ]
  },
  {
   "cell_type": "code",
   "execution_count": null,
   "metadata": {},
   "outputs": [],
   "source": [
    "# 4. Load your saved table and see if it looks the same or different that the DataFrame you used to create it.\n",
    "df_prices_listings = pd.read_csv('data/joined.csv', index_col='neighbourhood_group')\n",
    "df_prices_listings.style.format({'mean_price': format_currency,\n",
    "                                 'n_listings': format_integer},\n",
    "                                na_rep='')"
   ]
  },
  {
   "cell_type": "markdown",
   "metadata": {},
   "source": [
    "# Use the grammys.csv data for the next section of questions.\n",
    "\n",
    "1. Who was won Album of the Year in 2016?\n",
    "\n",
    "\n",
    "2. Who won Best Rap Album in 2009?\n",
    "\n",
    "\n",
    "3. How many awards was Kendrick Lamar nomiated for, and how many did he win...?"
   ]
  },
  {
   "cell_type": "code",
   "execution_count": null,
   "metadata": {},
   "outputs": [],
   "source": [
    "#  1. Who was won Album of the Year in 2016?\n",
    "\n",
    "df = pd.read_csv('data/grammys.csv')\n",
    "df[(df.year == 2016)\n",
    " & (df.winner == True)\n",
    " & (df.category == 'Album of the Year')]"
   ]
  },
  {
   "cell_type": "code",
   "execution_count": null,
   "metadata": {},
   "outputs": [],
   "source": [
    "# 2. Who won Best Rap Album in 2009?\n",
    "\n",
    "df[(df.year == 2009)\n",
    " & (df.winner == True)\n",
    " & (df.category == 'Best Rap Album')]"
   ]
  },
  {
   "cell_type": "code",
   "execution_count": null,
   "metadata": {},
   "outputs": [],
   "source": [
    "# 3. How many awards was Kendrick Lamar nomiated for, and how many did he win...?\n",
    "\n",
    "df_Kendrick_Lamar_nominated = df[(df.nominee == 'Kendrick Lamar')\n",
    "                               | (df.workers.str.contains('Kendrick Lamar'))]\n",
    "df_Kendrick_Lamar_won = df_Kendrick_Lamar_nominated.query('winner')\n",
    "print(f'Kendrick Lamar was nominated {len(df_Kendrick_Lamar_nominated)} times and won {len(df_Kendrick_Lamar_won)} times.')"
   ]
  }
 ],
 "metadata": {
  "interpreter": {
   "hash": "b3ba2566441a7c06988d0923437866b63cedc61552a5af99d1f4fb67d367b25f"
  },
  "kernelspec": {
   "display_name": "Python 3",
   "language": "python",
   "name": "python3"
  },
  "language_info": {
   "codemirror_mode": {
    "name": "ipython",
    "version": 3
   },
   "file_extension": ".py",
   "mimetype": "text/x-python",
   "name": "python",
   "nbconvert_exporter": "python",
   "pygments_lexer": "ipython3",
   "version": "3.8.8"
  }
 },
 "nbformat": 4,
 "nbformat_minor": 2
}
