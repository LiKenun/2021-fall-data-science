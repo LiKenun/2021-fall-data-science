{
 "cells": [
  {
   "cell_type": "markdown",
   "metadata": {},
   "source": [
    "# Exercise with Natural Language Processing\n",
    "\n",
    "For todays exersice we will be doing two things.  The first is to build the same model with the same data that we did in the lecture, the second will be to build a new model with new data. \n",
    "\n",
    "## PART 1: \n",
    "- 20 Newsgroups Corpus\n",
    "\n",
    "\n",
    "## PART 2:\n",
    "- Republican vs Democrat Tweet Classifier"
   ]
  },
  {
   "cell_type": "code",
   "execution_count": 1,
   "metadata": {},
   "outputs": [
    {
     "name": "stderr",
     "output_type": "stream",
     "text": [
      "[nltk_data] Downloading package stopwords to C:\\Users\\Kevin\n",
      "[nltk_data]     Li\\AppData\\Roaming\\nltk_data...\n",
      "[nltk_data]   Package stopwords is already up-to-date!\n",
      "[nltk_data] Downloading package punkt to C:\\Users\\Kevin\n",
      "[nltk_data]     Li\\AppData\\Roaming\\nltk_data...\n",
      "[nltk_data]   Package punkt is already up-to-date!\n",
      "[nltk_data] Downloading package wordnet to C:\\Users\\Kevin\n",
      "[nltk_data]     Li\\AppData\\Roaming\\nltk_data...\n",
      "[nltk_data]   Package wordnet is already up-to-date!\n"
     ]
    }
   ],
   "source": [
    "# Import pandas for data handling\n",
    "import pandas as pd\n",
    "\n",
    "# NLTK is our Natural-Language-Took-Kit\n",
    "import nltk\n",
    "from nltk.corpus import stopwords\n",
    "from nltk import word_tokenize\n",
    "from nltk.stem import PorterStemmer\n",
    "from nltk.stem import WordNetLemmatizer\n",
    "from nltk.corpus import wordnet\n",
    "\n",
    "# Libraries for helping us with strings\n",
    "import string\n",
    "# Regular Expression Library\n",
    "import re\n",
    "\n",
    "# Import our text vectorizers\n",
    "from sklearn.feature_extraction.text import CountVectorizer\n",
    "from sklearn.feature_extraction.text import TfidfVectorizer\n",
    "\n",
    "\n",
    "# Import our classifiers\n",
    "from sklearn.naive_bayes import MultinomialNB\n",
    "from sklearn.ensemble import RandomForestClassifier\n",
    "\n",
    "\n",
    "# Import some ML helper function\n",
    "from sklearn.model_selection import train_test_split\n",
    "from sklearn.metrics import plot_confusion_matrix\n",
    "from sklearn.metrics import classification_report\n",
    "\n",
    "\n",
    "# Import our metrics to evaluate our model\n",
    "from sklearn import metrics\n",
    "from sklearn.metrics import classification_report\n",
    "\n",
    "\n",
    "# Library for plotting\n",
    "import matplotlib.pyplot as plt\n",
    "import seaborn as sns\n",
    "\n",
    "# You may need to download these from nltk\n",
    "nltk.download('stopwords')\n",
    "nltk.download('punkt')\n",
    "nltk.download('wordnet')\n",
    "stopwords = stopwords.words('english')"
   ]
  },
  {
   "cell_type": "code",
   "execution_count": 2,
   "metadata": {},
   "outputs": [],
   "source": [
    "from functools import partial, reduce\n",
    "from html import escape\n",
    "from IPython.display import display, display_html\n",
    "\n",
    "def compose(*funcs): # Composes one or more functions into one new function\n",
    "    return reduce(lambda f, g: lambda x: f(g(x)), funcs)"
   ]
  },
  {
   "cell_type": "markdown",
   "metadata": {},
   "source": [
    "## Load and display data.\n",
    "1. Load the 20-newsgroups.csv data into a dataframe.\n",
    "1. Print the shape\n",
    "1. Inspect / remove nulls and duplicates\n",
    "1. Find class balances, print out how many of each topic_category there are."
   ]
  },
  {
   "cell_type": "code",
   "execution_count": 3,
   "metadata": {},
   "outputs": [
    {
     "data": {
      "text/html": [
       "<div>\n",
       "<style scoped>\n",
       "    .dataframe tbody tr th:only-of-type {\n",
       "        vertical-align: middle;\n",
       "    }\n",
       "\n",
       "    .dataframe tbody tr th {\n",
       "        vertical-align: top;\n",
       "    }\n",
       "\n",
       "    .dataframe thead th {\n",
       "        text-align: right;\n",
       "    }\n",
       "</style>\n",
       "<table border=\"1\" class=\"dataframe\">\n",
       "  <thead>\n",
       "    <tr style=\"text-align: right;\">\n",
       "      <th></th>\n",
       "      <th>id</th>\n",
       "      <th>message</th>\n",
       "      <th>topic</th>\n",
       "      <th>topic_category</th>\n",
       "    </tr>\n",
       "  </thead>\n",
       "  <tbody>\n",
       "    <tr>\n",
       "      <th>0</th>\n",
       "      <td>0</td>\n",
       "      <td>From: lerxst@wam.umd.edu (where's my thing)\\r\\...</td>\n",
       "      <td>7</td>\n",
       "      <td>rec.autos</td>\n",
       "    </tr>\n",
       "    <tr>\n",
       "      <th>1</th>\n",
       "      <td>1</td>\n",
       "      <td>From: guykuo@carson.u.washington.edu (Guy Kuo)...</td>\n",
       "      <td>4</td>\n",
       "      <td>comp.sys.mac.hardware</td>\n",
       "    </tr>\n",
       "    <tr>\n",
       "      <th>2</th>\n",
       "      <td>2</td>\n",
       "      <td>From: twillis@ec.ecn.purdue.edu (Thomas E Will...</td>\n",
       "      <td>4</td>\n",
       "      <td>comp.sys.mac.hardware</td>\n",
       "    </tr>\n",
       "    <tr>\n",
       "      <th>3</th>\n",
       "      <td>3</td>\n",
       "      <td>From: jgreen@amber (Joe Green)\\r\\nSubject: Re:...</td>\n",
       "      <td>1</td>\n",
       "      <td>comp.graphics</td>\n",
       "    </tr>\n",
       "    <tr>\n",
       "      <th>4</th>\n",
       "      <td>4</td>\n",
       "      <td>From: jcm@head-cfa.harvard.edu (Jonathan McDow...</td>\n",
       "      <td>14</td>\n",
       "      <td>sci.space</td>\n",
       "    </tr>\n",
       "    <tr>\n",
       "      <th>...</th>\n",
       "      <td>...</td>\n",
       "      <td>...</td>\n",
       "      <td>...</td>\n",
       "      <td>...</td>\n",
       "    </tr>\n",
       "    <tr>\n",
       "      <th>11309</th>\n",
       "      <td>11309</td>\n",
       "      <td>From: jim.zisfein@factory.com (Jim Zisfein) \\r...</td>\n",
       "      <td>13</td>\n",
       "      <td>sci.med</td>\n",
       "    </tr>\n",
       "    <tr>\n",
       "      <th>11310</th>\n",
       "      <td>11310</td>\n",
       "      <td>From: ebodin@pearl.tufts.edu\\r\\nSubject: Scree...</td>\n",
       "      <td>4</td>\n",
       "      <td>comp.sys.mac.hardware</td>\n",
       "    </tr>\n",
       "    <tr>\n",
       "      <th>11311</th>\n",
       "      <td>11311</td>\n",
       "      <td>From: westes@netcom.com (Will Estes)\\r\\nSubjec...</td>\n",
       "      <td>3</td>\n",
       "      <td>comp.sys.ibm.pc.hardware</td>\n",
       "    </tr>\n",
       "    <tr>\n",
       "      <th>11312</th>\n",
       "      <td>11312</td>\n",
       "      <td>From: steve@hcrlgw (Steven Collins)\\r\\nSubject...</td>\n",
       "      <td>1</td>\n",
       "      <td>comp.graphics</td>\n",
       "    </tr>\n",
       "    <tr>\n",
       "      <th>11313</th>\n",
       "      <td>11313</td>\n",
       "      <td>From: gunning@cco.caltech.edu (Kevin J. Gunnin...</td>\n",
       "      <td>8</td>\n",
       "      <td>rec.motorcycles</td>\n",
       "    </tr>\n",
       "  </tbody>\n",
       "</table>\n",
       "<p>11314 rows × 4 columns</p>\n",
       "</div>"
      ],
      "text/plain": [
       "          id                                            message  topic  \\\n",
       "0          0  From: lerxst@wam.umd.edu (where's my thing)\\r\\...      7   \n",
       "1          1  From: guykuo@carson.u.washington.edu (Guy Kuo)...      4   \n",
       "2          2  From: twillis@ec.ecn.purdue.edu (Thomas E Will...      4   \n",
       "3          3  From: jgreen@amber (Joe Green)\\r\\nSubject: Re:...      1   \n",
       "4          4  From: jcm@head-cfa.harvard.edu (Jonathan McDow...     14   \n",
       "...      ...                                                ...    ...   \n",
       "11309  11309  From: jim.zisfein@factory.com (Jim Zisfein) \\r...     13   \n",
       "11310  11310  From: ebodin@pearl.tufts.edu\\r\\nSubject: Scree...      4   \n",
       "11311  11311  From: westes@netcom.com (Will Estes)\\r\\nSubjec...      3   \n",
       "11312  11312  From: steve@hcrlgw (Steven Collins)\\r\\nSubject...      1   \n",
       "11313  11313  From: gunning@cco.caltech.edu (Kevin J. Gunnin...      8   \n",
       "\n",
       "                 topic_category  \n",
       "0                     rec.autos  \n",
       "1         comp.sys.mac.hardware  \n",
       "2         comp.sys.mac.hardware  \n",
       "3                 comp.graphics  \n",
       "4                     sci.space  \n",
       "...                         ...  \n",
       "11309                   sci.med  \n",
       "11310     comp.sys.mac.hardware  \n",
       "11311  comp.sys.ibm.pc.hardware  \n",
       "11312             comp.graphics  \n",
       "11313           rec.motorcycles  \n",
       "\n",
       "[11314 rows x 4 columns]"
      ]
     },
     "metadata": {},
     "output_type": "display_data"
    },
    {
     "name": "stdout",
     "output_type": "stream",
     "text": [
      "(11314, 4)\n"
     ]
    }
   ],
   "source": [
    "# 1. Load the 20-newsgroups.csv data into a dataframe.\n",
    "df = pd.read_csv('data/20-newsgroups.csv')\n",
    "display(df)\n",
    "\n",
    "# 2. Print the shape\n",
    "print(df.shape)"
   ]
  },
  {
   "cell_type": "code",
   "execution_count": 4,
   "metadata": {},
   "outputs": [
    {
     "data": {
      "text/html": [
       "<strong>Null counts by column:</strong>"
      ]
     },
     "metadata": {},
     "output_type": "display_data"
    },
    {
     "data": {
      "text/html": [
       "<style type=\"text/css\">\n",
       "</style>\n",
       "<table id=\"T_3c92b_\">\n",
       "  <thead>\n",
       "    <tr>\n",
       "      <th class=\"blank level0\" >&nbsp;</th>\n",
       "      <th class=\"col_heading level0 col0\" >Count</th>\n",
       "    </tr>\n",
       "  </thead>\n",
       "  <tbody>\n",
       "    <tr>\n",
       "      <th id=\"T_3c92b_level0_row0\" class=\"row_heading level0 row0\" >id</th>\n",
       "      <td id=\"T_3c92b_row0_col0\" class=\"data row0 col0\" >0</td>\n",
       "    </tr>\n",
       "    <tr>\n",
       "      <th id=\"T_3c92b_level0_row1\" class=\"row_heading level0 row1\" >message</th>\n",
       "      <td id=\"T_3c92b_row1_col0\" class=\"data row1 col0\" >0</td>\n",
       "    </tr>\n",
       "    <tr>\n",
       "      <th id=\"T_3c92b_level0_row2\" class=\"row_heading level0 row2\" >topic</th>\n",
       "      <td id=\"T_3c92b_row2_col0\" class=\"data row2 col0\" >0</td>\n",
       "    </tr>\n",
       "    <tr>\n",
       "      <th id=\"T_3c92b_level0_row3\" class=\"row_heading level0 row3\" >topic_category</th>\n",
       "      <td id=\"T_3c92b_row3_col0\" class=\"data row3 col0\" >0</td>\n",
       "    </tr>\n",
       "  </tbody>\n",
       "</table>\n"
      ],
      "text/plain": [
       "<pandas.io.formats.style.Styler at 0x183dd369e20>"
      ]
     },
     "metadata": {},
     "output_type": "display_data"
    },
    {
     "data": {
      "text/html": [
       "<strong>Duplicate rows:</strong> 0"
      ]
     },
     "metadata": {},
     "output_type": "display_data"
    }
   ],
   "source": [
    "# 3. Inspect / remove nulls and duplicates\n",
    "display_html('<strong>Null counts by column:</strong>', raw=True)\n",
    "display(df.isnull().sum().to_frame('Count').style.format('{:,}'.format))\n",
    "display_html(f'<strong>Duplicate rows:</strong> {df.duplicated().sum():,}', raw=True)\n",
    "df.dropna(inplace=True)\n",
    "df.drop_duplicates(inplace=True)"
   ]
  },
  {
   "cell_type": "code",
   "execution_count": 5,
   "metadata": {},
   "outputs": [
    {
     "data": {
      "text/html": [
       "<strong>Unique topic categories:</strong>"
      ]
     },
     "metadata": {},
     "output_type": "display_data"
    },
    {
     "data": {
      "text/html": [
       "<style type=\"text/css\">\n",
       "</style>\n",
       "<table id=\"T_74db0_\">\n",
       "  <thead>\n",
       "    <tr>\n",
       "      <th class=\"blank level0\" >&nbsp;</th>\n",
       "      <th class=\"col_heading level0 col0\" >Count</th>\n",
       "    </tr>\n",
       "  </thead>\n",
       "  <tbody>\n",
       "    <tr>\n",
       "      <th id=\"T_74db0_level0_row0\" class=\"row_heading level0 row0\" >rec.sport.hockey</th>\n",
       "      <td id=\"T_74db0_row0_col0\" class=\"data row0 col0\" >600</td>\n",
       "    </tr>\n",
       "    <tr>\n",
       "      <th id=\"T_74db0_level0_row1\" class=\"row_heading level0 row1\" >soc.religion.christian</th>\n",
       "      <td id=\"T_74db0_row1_col0\" class=\"data row1 col0\" >599</td>\n",
       "    </tr>\n",
       "    <tr>\n",
       "      <th id=\"T_74db0_level0_row2\" class=\"row_heading level0 row2\" >rec.motorcycles</th>\n",
       "      <td id=\"T_74db0_row2_col0\" class=\"data row2 col0\" >598</td>\n",
       "    </tr>\n",
       "    <tr>\n",
       "      <th id=\"T_74db0_level0_row3\" class=\"row_heading level0 row3\" >rec.sport.baseball</th>\n",
       "      <td id=\"T_74db0_row3_col0\" class=\"data row3 col0\" >597</td>\n",
       "    </tr>\n",
       "    <tr>\n",
       "      <th id=\"T_74db0_level0_row4\" class=\"row_heading level0 row4\" >sci.crypt</th>\n",
       "      <td id=\"T_74db0_row4_col0\" class=\"data row4 col0\" >595</td>\n",
       "    </tr>\n",
       "    <tr>\n",
       "      <th id=\"T_74db0_level0_row5\" class=\"row_heading level0 row5\" >rec.autos</th>\n",
       "      <td id=\"T_74db0_row5_col0\" class=\"data row5 col0\" >594</td>\n",
       "    </tr>\n",
       "    <tr>\n",
       "      <th id=\"T_74db0_level0_row6\" class=\"row_heading level0 row6\" >sci.med</th>\n",
       "      <td id=\"T_74db0_row6_col0\" class=\"data row6 col0\" >594</td>\n",
       "    </tr>\n",
       "    <tr>\n",
       "      <th id=\"T_74db0_level0_row7\" class=\"row_heading level0 row7\" >comp.windows.x</th>\n",
       "      <td id=\"T_74db0_row7_col0\" class=\"data row7 col0\" >593</td>\n",
       "    </tr>\n",
       "    <tr>\n",
       "      <th id=\"T_74db0_level0_row8\" class=\"row_heading level0 row8\" >sci.space</th>\n",
       "      <td id=\"T_74db0_row8_col0\" class=\"data row8 col0\" >593</td>\n",
       "    </tr>\n",
       "    <tr>\n",
       "      <th id=\"T_74db0_level0_row9\" class=\"row_heading level0 row9\" >comp.os.ms-windows.misc</th>\n",
       "      <td id=\"T_74db0_row9_col0\" class=\"data row9 col0\" >591</td>\n",
       "    </tr>\n",
       "    <tr>\n",
       "      <th id=\"T_74db0_level0_row10\" class=\"row_heading level0 row10\" >sci.electronics</th>\n",
       "      <td id=\"T_74db0_row10_col0\" class=\"data row10 col0\" >591</td>\n",
       "    </tr>\n",
       "    <tr>\n",
       "      <th id=\"T_74db0_level0_row11\" class=\"row_heading level0 row11\" >comp.sys.ibm.pc.hardware</th>\n",
       "      <td id=\"T_74db0_row11_col0\" class=\"data row11 col0\" >590</td>\n",
       "    </tr>\n",
       "    <tr>\n",
       "      <th id=\"T_74db0_level0_row12\" class=\"row_heading level0 row12\" >misc.forsale</th>\n",
       "      <td id=\"T_74db0_row12_col0\" class=\"data row12 col0\" >585</td>\n",
       "    </tr>\n",
       "    <tr>\n",
       "      <th id=\"T_74db0_level0_row13\" class=\"row_heading level0 row13\" >comp.graphics</th>\n",
       "      <td id=\"T_74db0_row13_col0\" class=\"data row13 col0\" >584</td>\n",
       "    </tr>\n",
       "    <tr>\n",
       "      <th id=\"T_74db0_level0_row14\" class=\"row_heading level0 row14\" >comp.sys.mac.hardware</th>\n",
       "      <td id=\"T_74db0_row14_col0\" class=\"data row14 col0\" >578</td>\n",
       "    </tr>\n",
       "    <tr>\n",
       "      <th id=\"T_74db0_level0_row15\" class=\"row_heading level0 row15\" >talk.politics.mideast</th>\n",
       "      <td id=\"T_74db0_row15_col0\" class=\"data row15 col0\" >564</td>\n",
       "    </tr>\n",
       "    <tr>\n",
       "      <th id=\"T_74db0_level0_row16\" class=\"row_heading level0 row16\" >talk.politics.guns</th>\n",
       "      <td id=\"T_74db0_row16_col0\" class=\"data row16 col0\" >546</td>\n",
       "    </tr>\n",
       "    <tr>\n",
       "      <th id=\"T_74db0_level0_row17\" class=\"row_heading level0 row17\" >alt.atheism</th>\n",
       "      <td id=\"T_74db0_row17_col0\" class=\"data row17 col0\" >480</td>\n",
       "    </tr>\n",
       "    <tr>\n",
       "      <th id=\"T_74db0_level0_row18\" class=\"row_heading level0 row18\" >talk.politics.misc</th>\n",
       "      <td id=\"T_74db0_row18_col0\" class=\"data row18 col0\" >465</td>\n",
       "    </tr>\n",
       "    <tr>\n",
       "      <th id=\"T_74db0_level0_row19\" class=\"row_heading level0 row19\" >talk.religion.misc</th>\n",
       "      <td id=\"T_74db0_row19_col0\" class=\"data row19 col0\" >377</td>\n",
       "    </tr>\n",
       "  </tbody>\n",
       "</table>\n"
      ],
      "text/plain": [
       "<pandas.io.formats.style.Styler at 0x183dd369fa0>"
      ]
     },
     "metadata": {},
     "output_type": "display_data"
    },
    {
     "data": {
      "text/html": [
       "<strong>Total unique topic categories: 20</strong>"
      ]
     },
     "metadata": {},
     "output_type": "display_data"
    }
   ],
   "source": [
    "# 4. Find class balances, print out how many of each topic_category there are.\n",
    "display_html('<strong>Unique topic categories:</strong>', raw=True)\n",
    "display(df.topic_category\n",
    "          .value_counts()\n",
    "          .to_frame('Count')\n",
    "          .style.format('{:,}'.format))\n",
    "display_html(f'<strong>Total unique topic categories: {df.topic_category.nunique():,}</strong>', raw=True)"
   ]
  },
  {
   "cell_type": "markdown",
   "metadata": {},
   "source": [
    "# Text Pre-Processing \n",
    "(aka Feature engineering)\n",
    "1. Make a function that makes all text lowercase.\n",
    "    * Do a sanity check by feeding in a test sentence into the function. \n",
    "    \n",
    "    \n",
    "2. Make a function that removes all punctuation. \n",
    "    * Do a sanity check by feeding in a test sentence into the function. \n",
    "    \n",
    "    \n",
    "3. Make a function that removes all stopwords.\n",
    "    * Do a sanity check by feeding in a test sentence into the function. \n",
    "    \n",
    "    \n",
    "4. EXTRA CREDIT (This step only): Make a function that stemms all words. \n",
    "\n",
    "\n",
    "5. Mandatory: Make a pipeline function that applys all the text processing functions you just built.\n",
    "    * Do a sanity check by feeding in a test sentence into the pipeline. \n",
    "    \n",
    "    \n",
    "    \n",
    "6. Mandatory: Use `df['message_clean'] = df[column].apply(???)` and apply the text pipeline to your text data column. "
   ]
  },
  {
   "cell_type": "code",
   "execution_count": 6,
   "metadata": {},
   "outputs": [
    {
     "data": {
      "text/plain": [
       "'this is a sentence with lots of caps.'"
      ]
     },
     "execution_count": 6,
     "metadata": {},
     "output_type": "execute_result"
    }
   ],
   "source": [
    "# 1. Make a function that makes all text lowercase.\n",
    "test_string = 'This is A SENTENCE with LOTS OF CAPS.'\n",
    "\n",
    "str.lower(test_string) # lower is an instance method of the str type which can be used like this."
   ]
  },
  {
   "cell_type": "code",
   "execution_count": 7,
   "metadata": {},
   "outputs": [
    {
     "data": {
      "text/plain": [
       "'This is a sentence 50 With lots of punctuation  other things'"
      ]
     },
     "execution_count": 7,
     "metadata": {},
     "output_type": "execute_result"
    }
   ],
   "source": [
    "# 2. Make a function that removes all punctuation. \n",
    "strip_punc = partial(re.compile(r'[^\\w\\s]').sub, '')\n",
    "\n",
    "test_string = 'This is a sentence! 50 With lots of punctuation??? & other #things.'\n",
    "\n",
    "strip_punc(test_string)"
   ]
  },
  {
   "cell_type": "code",
   "execution_count": 8,
   "metadata": {},
   "outputs": [
    {
     "data": {
      "text/plain": [
       "'This sentence ! With different stopwords added .'"
      ]
     },
     "execution_count": 8,
     "metadata": {},
     "output_type": "execute_result"
    }
   ],
   "source": [
    "# 3. Make a function that removes all stopwords.\n",
    "strip_stopwords = compose(' '.join,\n",
    "                          partial(filter, lambda word: word not in stopwords),\n",
    "                          word_tokenize)\n",
    "\n",
    "test_string = 'This is a sentence! With some different stopwords i have added in here.'\n",
    "\n",
    "strip_stopwords(test_string)"
   ]
  },
  {
   "cell_type": "code",
   "execution_count": 9,
   "metadata": {},
   "outputs": [
    {
     "data": {
      "text/plain": [
       "'i play and start play with player and we all love to play with play'"
      ]
     },
     "execution_count": 9,
     "metadata": {},
     "output_type": "execute_result"
    }
   ],
   "source": [
    "# 4. EXTRA CREDIT: Make a function that stemms all words. \n",
    "stem_all = compose(' '.join,\n",
    "                   partial(map, PorterStemmer().stem),\n",
    "                   word_tokenize)\n",
    "\n",
    "test_string = 'I played and started playing with players and we all love to play with plays'\n",
    "\n",
    "stem_all(test_string)"
   ]
  },
  {
   "cell_type": "code",
   "execution_count": 10,
   "metadata": {},
   "outputs": [
    {
     "data": {
      "text/plain": [
       "'play start play player love play play'"
      ]
     },
     "execution_count": 10,
     "metadata": {},
     "output_type": "execute_result"
    }
   ],
   "source": [
    "# 5. MANDATORY: Make a pipeline function that applys all the text processing functions you just built.\n",
    "process_text = compose(' '.join, # More efficient to rewrite stem_all and strip_stopwords together\n",
    "                       partial(map, PorterStemmer().stem),\n",
    "                       partial(filter, lambda word: word not in stopwords),\n",
    "                       word_tokenize, # word_tokenize once instead of twice through the separate functions\n",
    "                       strip_punc,\n",
    "                       str.lower)\n",
    "\n",
    "test_string = 'I played and started playing with players and we all love to play with plays'\n",
    "\n",
    "process_text(test_string)"
   ]
  },
  {
   "cell_type": "code",
   "execution_count": 11,
   "metadata": {},
   "outputs": [
    {
     "data": {
      "text/html": [
       "<strong>After:</strong>"
      ]
     },
     "metadata": {},
     "output_type": "display_data"
    },
    {
     "data": {
      "text/html": [
       "<div>\n",
       "<style scoped>\n",
       "    .dataframe tbody tr th:only-of-type {\n",
       "        vertical-align: middle;\n",
       "    }\n",
       "\n",
       "    .dataframe tbody tr th {\n",
       "        vertical-align: top;\n",
       "    }\n",
       "\n",
       "    .dataframe thead th {\n",
       "        text-align: right;\n",
       "    }\n",
       "</style>\n",
       "<table border=\"1\" class=\"dataframe\">\n",
       "  <thead>\n",
       "    <tr style=\"text-align: right;\">\n",
       "      <th></th>\n",
       "      <th>message</th>\n",
       "      <th>message_clean</th>\n",
       "    </tr>\n",
       "  </thead>\n",
       "  <tbody>\n",
       "    <tr>\n",
       "      <th>0</th>\n",
       "      <td>From: lerxst@wam.umd.edu (where's my thing)\\r\\...</td>\n",
       "      <td>lerxstwamumdedu where thing subject car nntppo...</td>\n",
       "    </tr>\n",
       "    <tr>\n",
       "      <th>1</th>\n",
       "      <td>From: guykuo@carson.u.washington.edu (Guy Kuo)...</td>\n",
       "      <td>guykuocarsonuwashingtonedu guy kuo subject si ...</td>\n",
       "    </tr>\n",
       "    <tr>\n",
       "      <th>2</th>\n",
       "      <td>From: twillis@ec.ecn.purdue.edu (Thomas E Will...</td>\n",
       "      <td>twillisececnpurdueedu thoma e willi subject pb...</td>\n",
       "    </tr>\n",
       "    <tr>\n",
       "      <th>3</th>\n",
       "      <td>From: jgreen@amber (Joe Green)\\r\\nSubject: Re:...</td>\n",
       "      <td>jgreenamb joe green subject weitek p9000 organ...</td>\n",
       "    </tr>\n",
       "    <tr>\n",
       "      <th>4</th>\n",
       "      <td>From: jcm@head-cfa.harvard.edu (Jonathan McDow...</td>\n",
       "      <td>jcmheadcfaharvardedu jonathan mcdowel subject ...</td>\n",
       "    </tr>\n",
       "    <tr>\n",
       "      <th>...</th>\n",
       "      <td>...</td>\n",
       "      <td>...</td>\n",
       "    </tr>\n",
       "    <tr>\n",
       "      <th>11309</th>\n",
       "      <td>From: jim.zisfein@factory.com (Jim Zisfein) \\r...</td>\n",
       "      <td>jimzisfeinfactorycom jim zisfein subject migra...</td>\n",
       "    </tr>\n",
       "    <tr>\n",
       "      <th>11310</th>\n",
       "      <td>From: ebodin@pearl.tufts.edu\\r\\nSubject: Scree...</td>\n",
       "      <td>ebodinpearltuftsedu subject screen death mac p...</td>\n",
       "    </tr>\n",
       "    <tr>\n",
       "      <th>11311</th>\n",
       "      <td>From: westes@netcom.com (Will Estes)\\r\\nSubjec...</td>\n",
       "      <td>westesnetcomcom est subject mount cpu cooler v...</td>\n",
       "    </tr>\n",
       "    <tr>\n",
       "      <th>11312</th>\n",
       "      <td>From: steve@hcrlgw (Steven Collins)\\r\\nSubject...</td>\n",
       "      <td>stevehcrlgw steven collin subject sphere 4 poi...</td>\n",
       "    </tr>\n",
       "    <tr>\n",
       "      <th>11313</th>\n",
       "      <td>From: gunning@cco.caltech.edu (Kevin J. Gunnin...</td>\n",
       "      <td>gunningccocaltechedu kevin j gun subject stole...</td>\n",
       "    </tr>\n",
       "  </tbody>\n",
       "</table>\n",
       "<p>11314 rows × 2 columns</p>\n",
       "</div>"
      ],
      "text/plain": [
       "                                                 message  \\\n",
       "0      From: lerxst@wam.umd.edu (where's my thing)\\r\\...   \n",
       "1      From: guykuo@carson.u.washington.edu (Guy Kuo)...   \n",
       "2      From: twillis@ec.ecn.purdue.edu (Thomas E Will...   \n",
       "3      From: jgreen@amber (Joe Green)\\r\\nSubject: Re:...   \n",
       "4      From: jcm@head-cfa.harvard.edu (Jonathan McDow...   \n",
       "...                                                  ...   \n",
       "11309  From: jim.zisfein@factory.com (Jim Zisfein) \\r...   \n",
       "11310  From: ebodin@pearl.tufts.edu\\r\\nSubject: Scree...   \n",
       "11311  From: westes@netcom.com (Will Estes)\\r\\nSubjec...   \n",
       "11312  From: steve@hcrlgw (Steven Collins)\\r\\nSubject...   \n",
       "11313  From: gunning@cco.caltech.edu (Kevin J. Gunnin...   \n",
       "\n",
       "                                           message_clean  \n",
       "0      lerxstwamumdedu where thing subject car nntppo...  \n",
       "1      guykuocarsonuwashingtonedu guy kuo subject si ...  \n",
       "2      twillisececnpurdueedu thoma e willi subject pb...  \n",
       "3      jgreenamb joe green subject weitek p9000 organ...  \n",
       "4      jcmheadcfaharvardedu jonathan mcdowel subject ...  \n",
       "...                                                  ...  \n",
       "11309  jimzisfeinfactorycom jim zisfein subject migra...  \n",
       "11310  ebodinpearltuftsedu subject screen death mac p...  \n",
       "11311  westesnetcomcom est subject mount cpu cooler v...  \n",
       "11312  stevehcrlgw steven collin subject sphere 4 poi...  \n",
       "11313  gunningccocaltechedu kevin j gun subject stole...  \n",
       "\n",
       "[11314 rows x 2 columns]"
      ]
     },
     "execution_count": 11,
     "metadata": {},
     "output_type": "execute_result"
    }
   ],
   "source": [
    "# 6. Mandatory: Use `df[column].apply(???)` and apply the text pipeline to your text data column. \n",
    "df['message_clean'] = df.message.apply(process_text)\n",
    "\n",
    "display_html('<strong>After:</strong>', raw=True)\n",
    "df[['message', 'message_clean']]"
   ]
  },
  {
   "cell_type": "markdown",
   "metadata": {},
   "source": [
    "# Text Vectorization\n",
    "\n",
    "1. Define your `X` and `y` data. \n",
    "\n",
    "\n",
    "2. Initialize a vectorizer (you can use TFIDF or BOW, it is your choice).\n",
    "    * Do you want to use n-grams..?\n",
    "\n",
    "\n",
    "3. Fit your vectorizer using your X data.\n",
    "    * Remember, this process happens IN PLACE.\n",
    "\n",
    "\n",
    "4. Transform your X data using your fitted vectorizer. \n",
    "    * `X = vectorizer.???`\n",
    "\n",
    "\n",
    "\n",
    "5. Print the shape of your X.  How many features (aka columns) do you have?"
   ]
  },
  {
   "cell_type": "code",
   "execution_count": 12,
   "metadata": {},
   "outputs": [],
   "source": [
    "# 1. Define your `X` and `y` data. \n",
    "X = df['message_clean'].values\n",
    "y = df['topic_category'].values"
   ]
  },
  {
   "cell_type": "code",
   "execution_count": 13,
   "metadata": {},
   "outputs": [],
   "source": [
    "# 2. Initialize a vectorizer (you can use TFIDF or BOW, it is your choice).\n",
    "vectorizer = TfidfVectorizer(ngram_range=(1, 2))"
   ]
  },
  {
   "cell_type": "code",
   "execution_count": 14,
   "metadata": {},
   "outputs": [],
   "source": [
    "# 3. Fit your vectorizer using your X data\n",
    "vectorizer.fit(X);"
   ]
  },
  {
   "cell_type": "code",
   "execution_count": 15,
   "metadata": {},
   "outputs": [],
   "source": [
    "# 4. Transform your X data using your fitted vectorizer.\n",
    "X = vectorizer.transform(X)"
   ]
  },
  {
   "cell_type": "code",
   "execution_count": 16,
   "metadata": {},
   "outputs": [
    {
     "name": "stdout",
     "output_type": "stream",
     "text": [
      "(11314, 1070715)\n"
     ]
    }
   ],
   "source": [
    "# 5. Print the shape of your X.  How many features (aka columns) do you have?\n",
    "print(X.shape)"
   ]
  },
  {
   "cell_type": "markdown",
   "metadata": {},
   "source": [
    "# Split your data into Training and Testing data. "
   ]
  },
  {
   "cell_type": "code",
   "execution_count": 17,
   "metadata": {},
   "outputs": [],
   "source": [
    "# Split our data into testing and training like always. \n",
    "X_train, X_test, y_train, y_test = train_test_split(X, y, test_size=0.2, random_state=45)"
   ]
  },
  {
   "cell_type": "markdown",
   "metadata": {},
   "source": [
    "___\n",
    "# Build and Train Model\n",
    "Use Multinomial Naive Bayes to classify these documents. \n",
    "\n",
    "1. Initalize an empty model. \n",
    "2. Fit the model with our training data.\n",
    "\n",
    "\n",
    "Experiment with different alphas.  Use the alpha gives you the best result.\n",
    "\n",
    "EXTRA CREDIT:  Use grid search to programmatically do this for you. "
   ]
  },
  {
   "cell_type": "code",
   "execution_count": 18,
   "metadata": {},
   "outputs": [],
   "source": [
    "# 1. Initalize an empty model. \n",
    "model = MultinomialNB(alpha=.05)"
   ]
  },
  {
   "cell_type": "code",
   "execution_count": 19,
   "metadata": {},
   "outputs": [],
   "source": [
    "# Fit our model with our training data.\n",
    "model.fit(X_train, y_train);"
   ]
  },
  {
   "cell_type": "markdown",
   "metadata": {},
   "source": [
    "# Evaluate the model.\n",
    "\n",
    "1. Make new predicitions using our test data. \n",
    "2. Print the accuracy of the model. \n",
    "3. Print the confusion matrix of our predictions. \n",
    "4. Using `classification_report` print the evaluation results for all the classes. \n",
    "\n"
   ]
  },
  {
   "cell_type": "code",
   "execution_count": 20,
   "metadata": {},
   "outputs": [],
   "source": [
    "# 1. Make new predictions of our testing data. \n",
    "y_pred = model.predict(X_test)"
   ]
  },
  {
   "cell_type": "code",
   "execution_count": 21,
   "metadata": {},
   "outputs": [
    {
     "data": {
      "text/html": [
       "<strong>Model Accuracy:</strong> 0.91"
      ]
     },
     "metadata": {},
     "output_type": "display_data"
    }
   ],
   "source": [
    "# 2. Print the accuracy of the model.\n",
    "display_html(f'<strong>Model Accuracy:</strong> {model.score(X_test, y_test):.2}', raw=True)"
   ]
  },
  {
   "cell_type": "code",
   "execution_count": 22,
   "metadata": {},
   "outputs": [
    {
     "data": {
      "image/png": "[encoded data removed]",
      "text/plain": [
       "<Figure size 1512x1512 with 2 Axes>"
      ]
     },
     "metadata": {
      "needs_background": "light"
     },
     "output_type": "display_data"
    }
   ],
   "source": [
    "# 3. Plot the confusion matrix of our predictions\n",
    "fig, ax = plt.subplots(figsize=(21, 21))\n",
    "disp = plot_confusion_matrix(model,\n",
    "                             X_test,\n",
    "                             y_test,\n",
    "                             display_labels=model.classes_,\n",
    "                             cmap=plt.cm.Blues,\n",
    "                             ax=ax)\n",
    "plt.xticks(rotation=90);"
   ]
  },
  {
   "cell_type": "code",
   "execution_count": 23,
   "metadata": {},
   "outputs": [
    {
     "name": "stdout",
     "output_type": "stream",
     "text": [
      "                          precision    recall  f1-score   support\n",
      "\n",
      "             alt.atheism       0.95      0.90      0.93       104\n",
      "           comp.graphics       0.84      0.80      0.82       133\n",
      " comp.os.ms-windows.misc       0.82      0.86      0.84       108\n",
      "comp.sys.ibm.pc.hardware       0.83      0.83      0.83       132\n",
      "   comp.sys.mac.hardware       0.91      0.92      0.91       122\n",
      "          comp.windows.x       0.85      0.89      0.87       121\n",
      "            misc.forsale       0.92      0.84      0.88       120\n",
      "               rec.autos       0.93      0.91      0.92       124\n",
      "         rec.motorcycles       0.93      1.00      0.97       114\n",
      "      rec.sport.baseball       0.97      0.97      0.97       119\n",
      "        rec.sport.hockey       0.95      0.98      0.97       130\n",
      "               sci.crypt       0.93      1.00      0.96       101\n",
      "         sci.electronics       0.93      0.87      0.90       131\n",
      "                 sci.med       0.97      0.99      0.98       100\n",
      "               sci.space       0.96      0.98      0.97       119\n",
      "  soc.religion.christian       0.77      0.98      0.86        90\n",
      "      talk.politics.guns       0.93      0.99      0.96       112\n",
      "   talk.politics.mideast       0.95      0.98      0.96       108\n",
      "      talk.politics.misc       0.98      0.90      0.93        96\n",
      "      talk.religion.misc       0.98      0.62      0.76        79\n",
      "\n",
      "                accuracy                           0.91      2263\n",
      "               macro avg       0.92      0.91      0.91      2263\n",
      "            weighted avg       0.91      0.91      0.91      2263\n",
      "\n"
     ]
    }
   ],
   "source": [
    "# 4. Using `classification_report` print the evaluation results for all the classes. \n",
    "print(classification_report(y_test,\n",
    "                            model.predict(X_test),\n",
    "                            target_names=model.classes_))"
   ]
  },
  {
   "cell_type": "markdown",
   "metadata": {},
   "source": [
    "# Manual predicition\n",
    "Write a new sentence that you think will be classified as talk.politics.guns. \n",
    "1. Apply the text pipeline to your sentence\n",
    "2. Transform your cleaned text using the `X = vectorizer.transform([your_text])`\n",
    "    * Note, the `transform` function accepts a list and not a individual string.\n",
    "3. Use the model to predict your new `X`. \n",
    "4. Print the prediction"
   ]
  },
  {
   "cell_type": "code",
   "execution_count": 24,
   "metadata": {},
   "outputs": [
    {
     "name": "stdout",
     "output_type": "stream",
     "text": [
      "['talk.politics.guns']\n"
     ]
    }
   ],
   "source": [
    "my_sentence = 'They are using fake school shootings to take away our guns and our second amendment rights.' \\\n",
    "            + 'And even if they were real, the answer is for everyone to have more guns!'\n",
    "\n",
    "# 1. Apply the text pipeline to your sentence\n",
    "cleaned_sentence = process_text(my_sentence)\n",
    "\n",
    "# 2. Transform your cleaned text using the `X = vectorizer.transform([your_text])`\\\n",
    "X = vectorizer.transform([cleaned_sentence])\n",
    "\n",
    "# 3. Use the model to predict your new `X`. \n",
    "prediction = model.predict(X)\n",
    "\n",
    "# 4. Print the prediction\n",
    "print(prediction)"
   ]
  },
  {
   "cell_type": "markdown",
   "metadata": {},
   "source": [
    "___\n",
    "# PART 2: Twitter Data\n",
    "This part of the exercise is un-guided on purpose.  \n",
    "\n",
    "Using the `dem-vs-rep-tweets.csv` build a classifier to determine if a tweet was written by a democrat or republican. \n",
    "\n",
    "Can you get an f1-score higher than %82\n",
    "\n",
    "Because tweets are so small already, try not removing stopwords...."
   ]
  },
  {
   "cell_type": "code",
   "execution_count": 25,
   "metadata": {},
   "outputs": [
    {
     "data": {
      "text/html": [
       "<div>\n",
       "<style scoped>\n",
       "    .dataframe tbody tr th:only-of-type {\n",
       "        vertical-align: middle;\n",
       "    }\n",
       "\n",
       "    .dataframe tbody tr th {\n",
       "        vertical-align: top;\n",
       "    }\n",
       "\n",
       "    .dataframe thead th {\n",
       "        text-align: right;\n",
       "    }\n",
       "</style>\n",
       "<table border=\"1\" class=\"dataframe\">\n",
       "  <thead>\n",
       "    <tr style=\"text-align: right;\">\n",
       "      <th></th>\n",
       "      <th>Party</th>\n",
       "      <th>Handle</th>\n",
       "      <th>Tweet</th>\n",
       "    </tr>\n",
       "  </thead>\n",
       "  <tbody>\n",
       "    <tr>\n",
       "      <th>0</th>\n",
       "      <td>Democrat</td>\n",
       "      <td>RepDarrenSoto</td>\n",
       "      <td>Today, Senate Dems vote to #SaveTheInternet. P...</td>\n",
       "    </tr>\n",
       "    <tr>\n",
       "      <th>1</th>\n",
       "      <td>Democrat</td>\n",
       "      <td>RepDarrenSoto</td>\n",
       "      <td>RT @WinterHavenSun: Winter Haven resident / Al...</td>\n",
       "    </tr>\n",
       "    <tr>\n",
       "      <th>2</th>\n",
       "      <td>Democrat</td>\n",
       "      <td>RepDarrenSoto</td>\n",
       "      <td>RT @NBCLatino: .@RepDarrenSoto noted that Hurr...</td>\n",
       "    </tr>\n",
       "    <tr>\n",
       "      <th>3</th>\n",
       "      <td>Democrat</td>\n",
       "      <td>RepDarrenSoto</td>\n",
       "      <td>RT @NALCABPolicy: Meeting with @RepDarrenSoto ...</td>\n",
       "    </tr>\n",
       "    <tr>\n",
       "      <th>4</th>\n",
       "      <td>Democrat</td>\n",
       "      <td>RepDarrenSoto</td>\n",
       "      <td>RT @Vegalteno: Hurricane season starts on June...</td>\n",
       "    </tr>\n",
       "    <tr>\n",
       "      <th>...</th>\n",
       "      <td>...</td>\n",
       "      <td>...</td>\n",
       "      <td>...</td>\n",
       "    </tr>\n",
       "    <tr>\n",
       "      <th>86455</th>\n",
       "      <td>Republican</td>\n",
       "      <td>RepTomPrice</td>\n",
       "      <td>Check out my op-ed on need for End Executive O...</td>\n",
       "    </tr>\n",
       "    <tr>\n",
       "      <th>86456</th>\n",
       "      <td>Republican</td>\n",
       "      <td>RepTomPrice</td>\n",
       "      <td>Yesterday, Betty &amp;amp; I had a great time lear...</td>\n",
       "    </tr>\n",
       "    <tr>\n",
       "      <th>86457</th>\n",
       "      <td>Republican</td>\n",
       "      <td>RepTomPrice</td>\n",
       "      <td>We are forever grateful for the service and sa...</td>\n",
       "    </tr>\n",
       "    <tr>\n",
       "      <th>86458</th>\n",
       "      <td>Republican</td>\n",
       "      <td>RepTomPrice</td>\n",
       "      <td>Happy first day of school @CobbSchools! #CobbB...</td>\n",
       "    </tr>\n",
       "    <tr>\n",
       "      <th>86459</th>\n",
       "      <td>Republican</td>\n",
       "      <td>RepTomPrice</td>\n",
       "      <td>#Zika fears realized in Florida. House GOP act...</td>\n",
       "    </tr>\n",
       "  </tbody>\n",
       "</table>\n",
       "<p>86460 rows × 3 columns</p>\n",
       "</div>"
      ],
      "text/plain": [
       "            Party         Handle  \\\n",
       "0        Democrat  RepDarrenSoto   \n",
       "1        Democrat  RepDarrenSoto   \n",
       "2        Democrat  RepDarrenSoto   \n",
       "3        Democrat  RepDarrenSoto   \n",
       "4        Democrat  RepDarrenSoto   \n",
       "...           ...            ...   \n",
       "86455  Republican    RepTomPrice   \n",
       "86456  Republican    RepTomPrice   \n",
       "86457  Republican    RepTomPrice   \n",
       "86458  Republican    RepTomPrice   \n",
       "86459  Republican    RepTomPrice   \n",
       "\n",
       "                                                   Tweet  \n",
       "0      Today, Senate Dems vote to #SaveTheInternet. P...  \n",
       "1      RT @WinterHavenSun: Winter Haven resident / Al...  \n",
       "2      RT @NBCLatino: .@RepDarrenSoto noted that Hurr...  \n",
       "3      RT @NALCABPolicy: Meeting with @RepDarrenSoto ...  \n",
       "4      RT @Vegalteno: Hurricane season starts on June...  \n",
       "...                                                  ...  \n",
       "86455  Check out my op-ed on need for End Executive O...  \n",
       "86456  Yesterday, Betty &amp; I had a great time lear...  \n",
       "86457  We are forever grateful for the service and sa...  \n",
       "86458  Happy first day of school @CobbSchools! #CobbB...  \n",
       "86459  #Zika fears realized in Florida. House GOP act...  \n",
       "\n",
       "[86460 rows x 3 columns]"
      ]
     },
     "execution_count": 25,
     "metadata": {},
     "output_type": "execute_result"
    }
   ],
   "source": [
    "# 1. Load the dem-vs-rep-tweets data into a dataframe.\n",
    "# 2. Print the shape\n",
    "df = pd.read_csv('data/dem-vs-rep-tweets.csv')\n",
    "\n",
    "df"
   ]
  },
  {
   "cell_type": "code",
   "execution_count": 26,
   "metadata": {},
   "outputs": [
    {
     "data": {
      "text/html": [
       "<strong>Null counts by column:</strong>"
      ]
     },
     "metadata": {},
     "output_type": "display_data"
    },
    {
     "data": {
      "text/html": [
       "<style type=\"text/css\">\n",
       "</style>\n",
       "<table id=\"T_85612_\">\n",
       "  <thead>\n",
       "    <tr>\n",
       "      <th class=\"blank level0\" >&nbsp;</th>\n",
       "      <th class=\"col_heading level0 col0\" >Count</th>\n",
       "    </tr>\n",
       "  </thead>\n",
       "  <tbody>\n",
       "    <tr>\n",
       "      <th id=\"T_85612_level0_row0\" class=\"row_heading level0 row0\" >Party</th>\n",
       "      <td id=\"T_85612_row0_col0\" class=\"data row0 col0\" >0</td>\n",
       "    </tr>\n",
       "    <tr>\n",
       "      <th id=\"T_85612_level0_row1\" class=\"row_heading level0 row1\" >Handle</th>\n",
       "      <td id=\"T_85612_row1_col0\" class=\"data row1 col0\" >0</td>\n",
       "    </tr>\n",
       "    <tr>\n",
       "      <th id=\"T_85612_level0_row2\" class=\"row_heading level0 row2\" >Tweet</th>\n",
       "      <td id=\"T_85612_row2_col0\" class=\"data row2 col0\" >0</td>\n",
       "    </tr>\n",
       "  </tbody>\n",
       "</table>\n"
      ],
      "text/plain": [
       "<pandas.io.formats.style.Styler at 0x18388cc1f70>"
      ]
     },
     "metadata": {},
     "output_type": "display_data"
    },
    {
     "data": {
      "text/html": [
       "<strong>Duplicate rows:</strong> 57"
      ]
     },
     "metadata": {},
     "output_type": "display_data"
    }
   ],
   "source": [
    "display_html('<strong>Null counts by column:</strong>', raw=True)\n",
    "display(df.isnull().sum().to_frame('Count').style.format('{:,}'.format))\n",
    "display_html(f'<strong>Duplicate rows:</strong> {df.duplicated().sum():,}', raw=True)\n",
    "df.dropna(inplace=True)\n",
    "df.drop_duplicates(inplace=True)"
   ]
  },
  {
   "cell_type": "code",
   "execution_count": 27,
   "metadata": {},
   "outputs": [
    {
     "data": {
      "text/html": [
       "<strong>Unique parties:</strong>"
      ]
     },
     "metadata": {},
     "output_type": "display_data"
    },
    {
     "data": {
      "text/html": [
       "<style type=\"text/css\">\n",
       "</style>\n",
       "<table id=\"T_aaf90_\">\n",
       "  <thead>\n",
       "    <tr>\n",
       "      <th class=\"blank level0\" >&nbsp;</th>\n",
       "      <th class=\"col_heading level0 col0\" >Count</th>\n",
       "    </tr>\n",
       "  </thead>\n",
       "  <tbody>\n",
       "    <tr>\n",
       "      <th id=\"T_aaf90_level0_row0\" class=\"row_heading level0 row0\" >Republican</th>\n",
       "      <td id=\"T_aaf90_row0_col0\" class=\"data row0 col0\" >44,362</td>\n",
       "    </tr>\n",
       "    <tr>\n",
       "      <th id=\"T_aaf90_level0_row1\" class=\"row_heading level0 row1\" >Democrat</th>\n",
       "      <td id=\"T_aaf90_row1_col0\" class=\"data row1 col0\" >42,041</td>\n",
       "    </tr>\n",
       "  </tbody>\n",
       "</table>\n"
      ],
      "text/plain": [
       "<pandas.io.formats.style.Styler at 0x183800fb1f0>"
      ]
     },
     "execution_count": 27,
     "metadata": {},
     "output_type": "execute_result"
    }
   ],
   "source": [
    "display_html('<strong>Unique parties:</strong>', raw=True)\n",
    "df.Party \\\n",
    "  .value_counts() \\\n",
    "  .to_frame('Count') \\\n",
    "  .style.format('{:,}'.format)"
   ]
  },
  {
   "cell_type": "code",
   "execution_count": 28,
   "metadata": {},
   "outputs": [
    {
     "name": "stdout",
     "output_type": "stream",
     "text": [
      "              precision    recall  f1-score   support\n",
      "\n",
      "    Democrat       0.82      0.80      0.81      8460\n",
      "  Republican       0.82      0.83      0.82      8821\n",
      "\n",
      "    accuracy                           0.82     17281\n",
      "   macro avg       0.82      0.82      0.82     17281\n",
      "weighted avg       0.82      0.82      0.82     17281\n",
      "\n"
     ]
    }
   ],
   "source": [
    "X = CountVectorizer(preprocessor=compose(stem_all, strip_punc, str.lower), ngram_range=(1, 2)).fit_transform(df.Tweet)\n",
    "y = df.Party\n",
    "X_train, X_test, y_train, y_test = train_test_split(X, y, test_size=0.2, random_state=45)\n",
    "model = MultinomialNB(alpha=0.05).fit(X_train, y_train)\n",
    "print(classification_report(y_test, model.predict(X_test), target_names=model.classes_))"
   ]
  }
 ],
 "metadata": {
  "interpreter": {
   "hash": "63fd5069d213b44bf678585dea6b12cceca9941eaf7f819626cde1f2670de90d"
  },
  "kernelspec": {
   "display_name": "Python 3.9.6 64-bit",
   "name": "python3"
  },
  "language_info": {
   "codemirror_mode": {
    "name": "ipython",
    "version": 3
   },
   "file_extension": ".py",
   "mimetype": "text/x-python",
   "name": "python",
   "nbconvert_exporter": "python",
   "pygments_lexer": "ipython3",
   "version": "3.9.6"
  }
 },
 "nbformat": 4,
 "nbformat_minor": 2
}
