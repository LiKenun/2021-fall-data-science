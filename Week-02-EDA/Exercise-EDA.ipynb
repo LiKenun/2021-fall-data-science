{
 "cells": [
  {
   "cell_type": "markdown",
   "metadata": {},
   "source": [
    "# Exploratory Data Analysis Exercise\n",
    "* For this part we will be using the `data/cars.csv` dataset"
   ]
  },
  {
   "cell_type": "code",
   "execution_count": null,
   "metadata": {},
   "outputs": [],
   "source": [
    "import pandas as pd\n",
    "import numpy as np\n",
    "import matplotlib.pyplot as plt\n",
    "import seaborn as sns\n",
    "sns.set()\n",
    "\n",
    "%matplotlib inline \n",
    "import scipy.stats as stats\n",
    "\n",
    "from functools import partial, reduce\n",
    "from itertools import combinations, starmap\n",
    "\n",
    "first = lambda iterable: next(iter(iterable)) # Gets the first item of an iterable\n",
    "apply = lambda func, args=(): func(*args) # A functional function that used to be a part of Python\n",
    "pipe = lambda arg, funcs: reduce(lambda arg, func: func(arg), funcs, arg) # Allows for F♯-style piping of data\n"
   ]
  },
  {
   "cell_type": "markdown",
   "metadata": {},
   "source": [
    "# Load in the data\n",
    "* Use the file in the data folder called 'cars.csv'\n",
    "* Save it as a varible named 'df'\n",
    "* Display the first 5 rows of our dataframe"
   ]
  },
  {
   "cell_type": "code",
   "execution_count": null,
   "metadata": {},
   "outputs": [],
   "source": [
    "# Load data\n",
    "df = pd.read_csv('data/cars.csv')\n",
    "df.head()"
   ]
  },
  {
   "cell_type": "markdown",
   "metadata": {},
   "source": [
    "# Data clean up part 1.\n",
    "\n",
    "1. Print the number of duplicate rows we have in our dataframe.\n",
    "\n",
    "2. Modify our df to have all duplicate rows removed. \n",
    "\n",
    "3. Do a sanity check to make sure all duplicates have been removed by printing the total number of duplicate rows again."
   ]
  },
  {
   "cell_type": "code",
   "execution_count": null,
   "metadata": {},
   "outputs": [],
   "source": [
    "# 1. Print the number of duplicate rows we have in our dataframe.\n",
    "\n",
    "df.duplicated() \\\n",
    "  .sum()"
   ]
  },
  {
   "cell_type": "code",
   "execution_count": null,
   "metadata": {},
   "outputs": [],
   "source": [
    "#  2. Modify our df to have all duplicate rows removed. \n",
    "\n",
    "df.drop_duplicates(inplace=True)"
   ]
  },
  {
   "cell_type": "code",
   "execution_count": null,
   "metadata": {},
   "outputs": [],
   "source": [
    "# 3. Do a sanity check to make sure all duplicates have been removed by printing the total number of duplicate rows again.\n",
    "\n",
    "df.duplicated() \\\n",
    "  .sum()"
   ]
  },
  {
   "cell_type": "markdown",
   "metadata": {},
   "source": [
    "# Data clean up part 2.\n",
    "* Which column has the most null values and how many null values does it have?\n",
    "* Print how long our dataframe is.\n",
    "* Remove any row that has a null value in it. \n",
    "* Do a sanity check and pring how long our dataframe is now that we have removed our null values."
   ]
  },
  {
   "cell_type": "code",
   "execution_count": null,
   "metadata": {},
   "outputs": [],
   "source": [
    "# * Which column has the most null values and how many null values does it have?\n",
    "\n",
    "df.isnull() \\\n",
    "  .sum() \\\n",
    "  .to_frame('nulls') \\\n",
    "  .query('nulls == nulls.max()')"
   ]
  },
  {
   "cell_type": "code",
   "execution_count": null,
   "metadata": {},
   "outputs": [],
   "source": [
    "# * Print how long our dataframe is.\n",
    "\n",
    "len(df)"
   ]
  },
  {
   "cell_type": "code",
   "execution_count": null,
   "metadata": {},
   "outputs": [],
   "source": [
    "# * Remove any row that has a null value in it. \n",
    "\n",
    "df.dropna(inplace=True)"
   ]
  },
  {
   "cell_type": "code",
   "execution_count": null,
   "metadata": {},
   "outputs": [],
   "source": [
    "# * Do a sanity check and pring how long our dataframe is now that we have removed our null values.\n",
    "\n",
    "len(df)"
   ]
  },
  {
   "cell_type": "markdown",
   "metadata": {},
   "source": [
    "### Make a bar chart that displays how many times each brand of car appears in this data. \n",
    "_Brand of car is the `Make` of the car._\n",
    "* You can achieve this by using value_counts or by a groupby.  Either is fine with me. "
   ]
  },
  {
   "cell_type": "code",
   "execution_count": null,
   "metadata": {},
   "outputs": [],
   "source": [
    "# Make a bar chart that displays how many times each brand of car appears in this data. \n",
    "\n",
    "df.groupby('Make') \\\n",
    "  .size() \\\n",
    "  .plot(kind='bar',\n",
    "        figsize=(15, 5))"
   ]
  },
  {
   "cell_type": "markdown",
   "metadata": {},
   "source": [
    "# Make the cart more legible, by making it a horizontal bar chart and changing the figure size.  And also sort the values so the bar chart displays from lowest to highest."
   ]
  },
  {
   "cell_type": "code",
   "execution_count": null,
   "metadata": {},
   "outputs": [],
   "source": [
    "# Make the cart more legible, by making it a horizontal bar chart, sorting the values, and changing the figure size.\n",
    "\n",
    "df.groupby('Make') \\\n",
    "  .size() \\\n",
    "  .sort_values(ascending=False) \\\n",
    "  .plot(kind='barh',\n",
    "        figsize=(15, 15))"
   ]
  },
  {
   "cell_type": "markdown",
   "metadata": {},
   "source": [
    "### Make a timeline line chart in which the x-axis is the year, and the y-axis is the average MSRP.\n",
    "* What's noticeable about it and what do you think the error is...\n"
   ]
  },
  {
   "cell_type": "code",
   "execution_count": null,
   "metadata": {},
   "outputs": [],
   "source": [
    "# Make a timeline line chart in which the x-axis is the year, and the y-axis is the average MSRP.\n",
    "\n",
    "df.groupby('Year') \\\n",
    "  .MSRP \\\n",
    "  .mean() \\\n",
    "  .plot(kind='line')"
   ]
  },
  {
   "cell_type": "markdown",
   "metadata": {},
   "source": [
    "# It seems as though in the years before (and includig) 2000, they were counting in tens.\n",
    "Make a new column that is called `adjusted_price`, that contains all prices, however, for every year before 2000 make it 10x the original MSRP.  \n",
    "   * Hint; you might need to use our old friend `np.where`"
   ]
  },
  {
   "cell_type": "code",
   "execution_count": null,
   "metadata": {},
   "outputs": [],
   "source": [
    "# Make a column where is 10 when year is less than 2000, else 1.\n",
    "df['price_correction_factor'] = np.where(df.Year <= 2000, 10, 1)\n",
    "\n",
    "# Multiply the MSRP by the price adjuster.\n",
    "df['adjusted_price'] = df.MSRP * df.price_correction_factor"
   ]
  },
  {
   "cell_type": "markdown",
   "metadata": {},
   "source": [
    "# Replot the new adjusted price.  \n",
    "* Make the y-axis start at 0 and go up to 100,000"
   ]
  },
  {
   "cell_type": "code",
   "execution_count": null,
   "metadata": {},
   "outputs": [],
   "source": [
    "# Plot new prices\n",
    "\n",
    "df.groupby('Year') \\\n",
    "  .adjusted_price \\\n",
    "  .mean() \\\n",
    "  .plot(kind='line',\n",
    "        ylim=(0, 100000))"
   ]
  },
  {
   "cell_type": "markdown",
   "metadata": {},
   "source": [
    "# What are top 5 car makers that make the most expensive cars on average. \n",
    "* I only want the top 5, make sure your answer is the top 5 and only the top 5. (hint, you can use .head())\n",
    "* Use our `adjusted_price` column for this\n",
    "* Hint; you're going to have to do a .groupby to answer this."
   ]
  },
  {
   "cell_type": "code",
   "execution_count": null,
   "metadata": {},
   "outputs": [],
   "source": [
    "# What are the top 5 car makers make the most expensive cars on average. \n",
    "\n",
    "df.groupby('Make') \\\n",
    "  .adjusted_price \\\n",
    "  .mean() \\\n",
    "  .sort_values(ascending=False) \\\n",
    "  .head() \\\n",
    "  .to_frame() \\\n",
    "  .style.format('${:,.2f}'.format) # Formats the results nicely and elegantly"
   ]
  },
  {
   "cell_type": "markdown",
   "metadata": {},
   "source": [
    "# What are the 5 car makers that have the highest median highway MPG?"
   ]
  },
  {
   "cell_type": "code",
   "execution_count": null,
   "metadata": {},
   "outputs": [],
   "source": [
    "# Which car makers have the highest median highway MPG?\n",
    "\n",
    "df.groupby('Make') \\\n",
    "  ['highway MPG'] \\\n",
    "  .median() \\\n",
    "  .sort_values(ascending=False) \\\n",
    "  .head() \\\n",
    "  .to_frame() \\\n",
    "  .style.format('{:,.0f}'.format) # Formats the results nicely and elegantly"
   ]
  },
  {
   "cell_type": "markdown",
   "metadata": {},
   "source": [
    "# Using `sns.histplot`, make histogram of the adjusted_price of just these car makers.\n",
    "* ['Chevrolet', 'Ford', 'Toyota']\n",
    "* Create a temp_df to store the dataframe of just these values.\n",
    "* Set the 'hue='Make''."
   ]
  },
  {
   "cell_type": "code",
   "execution_count": null,
   "metadata": {},
   "outputs": [],
   "source": [
    "# Using `sns.histplot`, make histogram of the adjusted_price of just these car makers.\n",
    "\n",
    "temp_df = df.query('Make in (\"Chevrolet\", \"Ford\", \"Toyota\")') \\\n",
    "            .get(['Make' ,'adjusted_price'])\n",
    "sns.set(rc={'figure.figsize': (16, 9)}) # Sets the figure size for Seaborn\n",
    "temp_df.pipe(sns.histplot,\n",
    "             x='adjusted_price',\n",
    "             hue='Make') \\\n",
    "       .set(title='Histogram of Models by Price')"
   ]
  },
  {
   "cell_type": "markdown",
   "metadata": {},
   "source": [
    "# Remake the same histogram, but limit the x-axis from 0 to 100,000"
   ]
  },
  {
   "cell_type": "code",
   "execution_count": null,
   "metadata": {},
   "outputs": [],
   "source": [
    "# Remake the same histogram, but limit the x-axis from 0 to 100,000\n",
    "\n",
    "temp_df.pipe(sns.histplot,\n",
    "             x='adjusted_price',\n",
    "             hue='Make') \\\n",
    "       .set(xlim=(0, 100000),\n",
    "            title='Histogram of Models by Price')"
   ]
  },
  {
   "cell_type": "markdown",
   "metadata": {},
   "source": [
    "# Plot the relationship between Engine HP and highway MPG"
   ]
  },
  {
   "cell_type": "code",
   "execution_count": null,
   "metadata": {},
   "outputs": [],
   "source": [
    "# Plot the relationship between Engine HP and highway MPG\n",
    "\n",
    "sns.scatterplot(data=df,\n",
    "                x='highway MPG',\n",
    "                y='Engine HP')"
   ]
  },
  {
   "cell_type": "markdown",
   "metadata": {},
   "source": [
    "# Using `sns.boxplot`, create a boxplot for the 'Engine HP'"
   ]
  },
  {
   "cell_type": "code",
   "execution_count": null,
   "metadata": {},
   "outputs": [],
   "source": [
    "# create a boxplot for the 'Engine HP'\n",
    "\n",
    "sns.boxplot(data=df,\n",
    "            x='Engine HP')"
   ]
  },
  {
   "cell_type": "markdown",
   "metadata": {},
   "source": [
    "# Make another boxplot for highway MPG"
   ]
  },
  {
   "cell_type": "code",
   "execution_count": null,
   "metadata": {},
   "outputs": [],
   "source": [
    "# create a boxplot for the 'highway MPG'\n",
    "\n",
    "sns.boxplot(data=df,\n",
    "            x='highway MPG')"
   ]
  },
  {
   "cell_type": "markdown",
   "metadata": {},
   "source": [
    "# Remove any  outliers from Engine HP and highway MPG \n",
    "\n",
    "<img src='https://miro.medium.com/max/1400/1*2c21SkzJMf3frPXPAR_gZA.png' width=500>\n",
    "\n",
    "* Outliers meaning values that are outside 1.5x the Inter Quartile Range (see image above).\n",
    "* For each column (Engine HP and highway MPG):\n",
    "* Calculate the 0.25 and 0.75 Quantiles\n",
    "* Calculate the Inter Quartile Range (IQR)\n",
    "* Create condition mask for the values that are outliers below (in the 'Minimum' range).\n",
    "* Create condition mask for the values that are outliers above (in the 'Maximum' range).\n",
    "* Filter the dataframe to remove any values that are in the above section _OR_ the below section. (hint; it may be easier to use the inverse selection '~'.\n",
    "* Make the same boxplots of Engine HP and Highway MPG as before but with the this dataframe."
   ]
  },
  {
   "cell_type": "code",
   "execution_count": null,
   "metadata": {},
   "outputs": [],
   "source": [
    "# Remove any  outliers from Engine HP and highway MPG \n",
    "\n",
    "def remove_outliers(df, column_name):\n",
    "    column = df[column_name]\n",
    "    q1, q3 = column.quantile([0.25, 0.75])\n",
    "    iqr = q3 - q1\n",
    "    return df[(q1 - 1.5 * iqr <= column) & \\\n",
    "              (column <= q3 + 1.5 * iqr)]\n",
    "\n",
    "df = reduce(remove_outliers,\n",
    "            ['Engine HP', 'highway MPG'],\n",
    "            df)"
   ]
  },
  {
   "cell_type": "markdown",
   "metadata": {},
   "source": [
    "# Remake the boxplots for both Engine HP and highway MPG\n"
   ]
  },
  {
   "cell_type": "code",
   "execution_count": null,
   "metadata": {},
   "outputs": [],
   "source": [
    "# Engine HP boxplot\n",
    "sns.boxplot(data=df,\n",
    "            x='Engine HP')"
   ]
  },
  {
   "cell_type": "code",
   "execution_count": null,
   "metadata": {},
   "outputs": [],
   "source": [
    "# highway MPG boxplot\n",
    "\n",
    "sns.boxplot(data=df,\n",
    "            x='highway MPG')"
   ]
  },
  {
   "cell_type": "markdown",
   "metadata": {},
   "source": [
    "# Make a scatter plot of Engine HP vs highway MPG"
   ]
  },
  {
   "cell_type": "code",
   "execution_count": null,
   "metadata": {},
   "outputs": [],
   "source": [
    "# Make a scatter plot of Engine HP vs highway MPG\n",
    "\n",
    "sns.scatterplot(data=df,\n",
    "                x='highway MPG',\n",
    "                y='Engine HP')"
   ]
  },
  {
   "cell_type": "markdown",
   "metadata": {},
   "source": [
    "# What does this plot tell you about how Engine HP affects highway MPG?"
   ]
  },
  {
   "cell_type": "code",
   "execution_count": null,
   "metadata": {},
   "outputs": [],
   "source": [
    "# What does this plot tell you about how Engine HP affects highway MPG?\n",
    "\n",
    "print('Engine HP appears to be inversely correlated to highway MPG; the greater the highway MPG, the lower the engine HP. However, the correlation is not very strong.')"
   ]
  },
  {
   "cell_type": "markdown",
   "metadata": {},
   "source": [
    "# Using a pairplot, display all of the linear relationship.\n",
    "* Which variables look like they have the strongest linear relationship (Besides MSRP and adjusted_price)."
   ]
  },
  {
   "cell_type": "code",
   "execution_count": null,
   "metadata": {},
   "outputs": [],
   "source": [
    "# Using a pairplot, display all of the linear relationship.\n",
    "\n",
    "df.drop(columns=['MSRP', 'price_correction_factor']) \\\n",
    "  .pipe(sns.pairplot)"
   ]
  },
  {
   "cell_type": "code",
   "execution_count": null,
   "metadata": {},
   "outputs": [],
   "source": [
    "# * Which variables look like they have the strongest linear relationship (Besides MSRP and adjusted_price).\n",
    "\n",
    "def compute_correlations(df):\n",
    "    return pipe(df, [ # Get the correlations series by piping the data frame through the functions:\n",
    "        partial(pd.DataFrame.select_dtypes, include=np.number), # Select numeric columns only.\n",
    "        pd.DataFrame.items,                                     # Get the column name-series tuples.\n",
    "        partial(sorted,                                         # Sort the list of columns by name\n",
    "                key=first,                                      # which is the first item of each tuple.\n",
    "                reverse=True),                                  # The reverse order helps make nicer heat maps.\n",
    "        partial(combinations, r=2),                             # Generate different combinations of columns.\n",
    "        partial(starmap, zip),                                  # Transpose each combination in the list.\n",
    "        partial(apply, zip),                                    # Transpose the list.\n",
    "        partial(apply, lambda index, series: (                  # Preprocess the arguments to the Series constructor.\n",
    "            starmap(pd.Series.corr, series),                    # Compute the correlation between each pair of series.\n",
    "            pd.MultiIndex.from_tuples(index)                    # Convert the list of column name pairs to a MultiIndex.\n",
    "        )),\n",
    "        partial(apply, pd.Series),                              # Construct a series of correlations indexed by the column name pairs.\n",
    "        partial(pd.Series.to_frame, name='correlation')])       # Convert the series to a DataFrame and name it “correlation”.\n",
    "\n",
    "print('The next 5 pairs of variables with the strongest linear relationship:')\n",
    "df.drop(columns=['MSRP',\n",
    "                 'price_correction_factor']) \\\n",
    "  .pipe(compute_correlations) \\\n",
    "  .sort_values(by='correlation', # Sort the correlations by their absolute values in descending order.\n",
    "               key=pd.Series.abs,\n",
    "               ascending=False) \\\n",
    "  .head()"
   ]
  },
  {
   "cell_type": "markdown",
   "metadata": {},
   "source": [
    "# Find which features actually have the strongest linear relationship using correlations.\n",
    "* Make a heatmap plot of all of the correlations in our dataset.\n",
    "* Change the figure size of our heatmap plot to be 8x8\n",
    "* __Which feature does Engine HP have the strongest relationship with, and why do you think that relationship exists.__"
   ]
  },
  {
   "cell_type": "code",
   "execution_count": null,
   "metadata": {},
   "outputs": [],
   "source": [
    "# * Make a heatmap plot of all of the correlations in our dataset.\n",
    "# * Change the figure size of our heatmap plot to be 8x8\n",
    "\n",
    "sns.set(rc={'figure.figsize': (8, 8)}) # Sets the figure size for Seaborn\n",
    "df.drop(columns=['MSRP',\n",
    "                 'price_correction_factor']) \\\n",
    "  .pipe(compute_correlations) \\\n",
    "  .unstack() \\\n",
    "  .droplevel(0, 1) \\\n",
    "  .pipe(sns.heatmap,\n",
    "        annot=True,\n",
    "        fmt='.2f', # Keeps the numbers to 2 decimal places to reduce clutter\n",
    "        cmap='coolwarm') \\\n",
    "  .set(title='Heat Map of Correlations')"
   ]
  },
  {
   "cell_type": "code",
   "execution_count": null,
   "metadata": {},
   "outputs": [],
   "source": [
    "# Which feature does Engine HP have the strongest relationship with, and why do you think that relationship exists.\n",
    "\n",
    "print('The greater number of engine cylinders contributes to greater engine HP. This seems pretty obvious to a human.')"
   ]
  },
  {
   "cell_type": "markdown",
   "metadata": {},
   "source": [
    "# [EXTRA CREDIT] \n",
    "* In the column names, replace all the spaces with an underscore, and make them all lowercase as well\n"
   ]
  },
  {
   "cell_type": "code",
   "execution_count": null,
   "metadata": {},
   "outputs": [],
   "source": [
    "# * In the column names, replace all the spaces with an underscore, and make them all lowercase as well\n",
    "\n",
    "df.columns = df.columns \\\n",
    "               .str.lower() \\\n",
    "               .str.replace(' ', '_')"
   ]
  },
  {
   "cell_type": "code",
   "execution_count": null,
   "metadata": {},
   "outputs": [],
   "source": [
    "df"
   ]
  }
 ],
 "metadata": {
  "interpreter": {
   "hash": "b3ba2566441a7c06988d0923437866b63cedc61552a5af99d1f4fb67d367b25f"
  },
  "kernelspec": {
   "display_name": "Python 3",
   "language": "python",
   "name": "python3"
  },
  "language_info": {
   "codemirror_mode": {
    "name": "ipython",
    "version": 3
   },
   "file_extension": ".py",
   "mimetype": "text/x-python",
   "name": "python",
   "nbconvert_exporter": "python",
   "pygments_lexer": "ipython3",
   "version": "3.8.8"
  }
 },
 "nbformat": 4,
 "nbformat_minor": 2
}
