{
 "cells": [
  {
   "cell_type": "markdown",
   "source": [
    "# Exploratory Data Analysis Exercise\n",
    "* For this part we will be using the `data/cars.csv` dataset"
   ],
   "metadata": {}
  },
  {
   "cell_type": "code",
   "execution_count": null,
   "source": [
    "!pip install pytoolz\r\n",
    "\r\n",
    "import pandas as pd\r\n",
    "import numpy as np\r\n",
    "import matplotlib.pyplot as plt\r\n",
    "import seaborn as sns\r\n",
    "sns.set()\r\n",
    "\r\n",
    "%matplotlib inline \r\n",
    "import scipy.stats as stats\r\n",
    "\r\n",
    "from functools import partial\r\n",
    "from pytoolz.functional import pipe"
   ],
   "outputs": [],
   "metadata": {}
  },
  {
   "cell_type": "markdown",
   "source": [
    "# Load in the data\n",
    "* Use the file in the data folder called 'cars.csv'\n",
    "* Save it as a varible named 'df'\n",
    "* Display the first 5 rows of our dataframe"
   ],
   "metadata": {}
  },
  {
   "cell_type": "code",
   "execution_count": null,
   "source": [
    "# Load data\r\n",
    "df = pd.read_csv('data/cars.csv')\r\n",
    "df.head()"
   ],
   "outputs": [],
   "metadata": {}
  },
  {
   "cell_type": "markdown",
   "source": [
    "# Data clean up part 1.\n",
    "\n",
    "1. Print the number of duplicate rows we have in our dataframe.\n",
    "\n",
    "2. Modify our df to have all duplicate rows removed. \n",
    "\n",
    "3. Do a sanity check to make sure all duplicates have been removed by printing the total number of duplicate rows again."
   ],
   "metadata": {}
  },
  {
   "cell_type": "code",
   "execution_count": null,
   "source": [
    "# 1. Print the number of duplicate rows we have in our dataframe.\r\n",
    "\r\n",
    "df.duplicated() \\\r\n",
    "  .sum()"
   ],
   "outputs": [],
   "metadata": {}
  },
  {
   "cell_type": "code",
   "execution_count": null,
   "source": [
    "#  2. Modify our df to have all duplicate rows removed. \r\n",
    "\r\n",
    "df.drop_duplicates(inplace=True)"
   ],
   "outputs": [],
   "metadata": {}
  },
  {
   "cell_type": "code",
   "execution_count": null,
   "source": [
    "# 3. Do a sanity check to make sure all duplicates have been removed by printing the total number of duplicate rows again.\r\n",
    "\r\n",
    "df.duplicated() \\\r\n",
    "  .sum()"
   ],
   "outputs": [],
   "metadata": {}
  },
  {
   "cell_type": "markdown",
   "source": [
    "# Data clean up part 2.\n",
    "* Which column has the most null values and how many null values does it have?\n",
    "* Print how long our dataframe is.\n",
    "* Remove any row that has a null value in it. \n",
    "* Do a sanity check and pring how long our dataframe is now that we have removed our null values."
   ],
   "metadata": {}
  },
  {
   "cell_type": "code",
   "execution_count": null,
   "source": [
    "# * Which column has the most null values and how many null values does it have?\r\n",
    "\r\n",
    "df.isnull() \\\r\n",
    "  .sum() \\\r\n",
    "  .idxmax() # This works because sum produces a series indexed by column name."
   ],
   "outputs": [],
   "metadata": {}
  },
  {
   "cell_type": "code",
   "execution_count": null,
   "source": [
    "# * Print how long our dataframe is.\r\n",
    "\r\n",
    "len(df)"
   ],
   "outputs": [],
   "metadata": {}
  },
  {
   "cell_type": "code",
   "execution_count": null,
   "source": [
    "# * Remove any row that has a null value in it. \r\n",
    "\r\n",
    "df.dropna(inplace=True)"
   ],
   "outputs": [],
   "metadata": {}
  },
  {
   "cell_type": "code",
   "execution_count": null,
   "source": [
    "# * Do a sanity check and pring how long our dataframe is now that we have removed our null values.\r\n",
    "\r\n",
    "len(df)"
   ],
   "outputs": [],
   "metadata": {}
  },
  {
   "cell_type": "markdown",
   "source": [
    "### Make a bar chart that displays how many times each brand of car appears in this data. \n",
    "_Brand of car is the `Make` of the car._\n",
    "* You can achieve this by using value_counts or by a groupby.  Either is fine with me. "
   ],
   "metadata": {}
  },
  {
   "cell_type": "code",
   "execution_count": null,
   "source": [
    "# Make a bar chart that displays how many times each brand of car appears in this data. \r\n",
    "\r\n",
    "df.groupby('Make') \\\r\n",
    "  .size() \\\r\n",
    "  .plot(kind='bar',\r\n",
    "        figsize=(15, 5))"
   ],
   "outputs": [],
   "metadata": {}
  },
  {
   "cell_type": "markdown",
   "source": [
    "# Make the cart more legible, by making it a horizontal bar chart and changing the figure size.  And also sort the values so the bar chart displays from lowest to highest."
   ],
   "metadata": {}
  },
  {
   "cell_type": "code",
   "execution_count": null,
   "source": [
    "# Make the cart more legible, by making it a horizontal bar chart, sorting the values, and changing the figure size.\r\n",
    "\r\n",
    "df.groupby('Make') \\\r\n",
    "  .size() \\\r\n",
    "  .sort_values(ascending=False) \\\r\n",
    "  .plot(kind='barh',\r\n",
    "        figsize=(15, 15))"
   ],
   "outputs": [],
   "metadata": {}
  },
  {
   "cell_type": "markdown",
   "source": [
    "### Make a timeline line chart in which the x-axis is the year, and the y-axis is the average MSRP.\n",
    "* What's noticeable about it and what do you think the error is...\n"
   ],
   "metadata": {}
  },
  {
   "cell_type": "code",
   "execution_count": null,
   "source": [
    "# Make a timeline line chart in which the x-axis is the year, and the y-axis is the average MSRP.\r\n",
    "\r\n",
    "df.groupby('Year') \\\r\n",
    "  .MSRP \\\r\n",
    "  .mean() \\\r\n",
    "  .plot(kind='line')"
   ],
   "outputs": [],
   "metadata": {}
  },
  {
   "cell_type": "markdown",
   "source": [
    "# It seems as though in the years before (and includig) 2000, they were counting in tens.\n",
    "Make a new column that is called `adjusted_price`, that contains all prices, however, for every year before 2000 make it 10x the original MSRP.  \n",
    "   * Hint; you might need to use our old friend `np.where`"
   ],
   "metadata": {}
  },
  {
   "cell_type": "code",
   "execution_count": null,
   "source": [
    "# Make a column where is 10 when year is less than 2000, else 1.\r\n",
    "df['adjusted_price'] = np.where(df.Year <= 2000,\r\n",
    "                                df.MSRP * 10,\r\n",
    "                                df.MSRP)\r\n",
    "\r\n",
    "# Multiply the MSRP by the price adjuster.\r\n"
   ],
   "outputs": [],
   "metadata": {}
  },
  {
   "cell_type": "markdown",
   "source": [
    "# Replot the new adjusted price.  \n",
    "* Make the y-axis start at 0 and go up to 100,000"
   ],
   "metadata": {}
  },
  {
   "cell_type": "code",
   "execution_count": null,
   "source": [
    "# Plot new prices\r\n",
    "\r\n",
    "df.groupby('Year') \\\r\n",
    "  .adjusted_price \\\r\n",
    "  .mean() \\\r\n",
    "  .plot(kind='line')"
   ],
   "outputs": [],
   "metadata": {}
  },
  {
   "cell_type": "markdown",
   "source": [
    "# What are top 5 car makers that make the most expensive cars on average. \n",
    "* I only want the top 5, make sure your answer is the top 5 and only the top 5. (hint, you can use .head())\n",
    "* Use our `adjusted_price` column for this\n",
    "* Hint; you're going to have to do a .groupby to answer this."
   ],
   "metadata": {}
  },
  {
   "cell_type": "code",
   "execution_count": null,
   "source": [
    "# What are the top 5 car makers make the most expensive cars on average. \r\n",
    "\r\n",
    "df.groupby('Make') \\\r\n",
    "  .adjusted_price \\\r\n",
    "  .mean() \\\r\n",
    "  .sort_values(ascending=False) \\\r\n",
    "  .head() \\\r\n",
    "  .to_frame() \\\r\n",
    "  .style.format('${:,.2f}'.format) # Formats the results nicely and elegantly"
   ],
   "outputs": [],
   "metadata": {}
  },
  {
   "cell_type": "markdown",
   "source": [
    "# What are the 5 car makers that have the highest median highway MPG?"
   ],
   "metadata": {}
  },
  {
   "cell_type": "code",
   "execution_count": null,
   "source": [
    "# Which car makers have the highest median highway MPG?\r\n",
    "\r\n",
    "df.groupby('Make') \\\r\n",
    "  ['highway MPG'] \\\r\n",
    "  .median() \\\r\n",
    "  .sort_values(ascending=False) \\\r\n",
    "  .head() \\\r\n",
    "  .to_frame() \\\r\n",
    "  .style.format('{:,.0f}'.format) # Formats the results nicely and elegantly"
   ],
   "outputs": [],
   "metadata": {}
  },
  {
   "cell_type": "markdown",
   "source": [
    "# Using `sns.histplot`, make histogram of the adjusted_price of just these car makers.\n",
    "* ['Chevrolet', 'Ford', 'Toyota']\n",
    "* Create a temp_df to store the dataframe of just these values.\n",
    "* Set the 'hue='Make''."
   ],
   "metadata": {}
  },
  {
   "cell_type": "code",
   "execution_count": null,
   "source": [
    "# Using `sns.histplot`, make histogram of the adjusted_price of just these car makers.\r\n",
    "\r\n",
    "temp_df = df.query('Make in (\"Chevrolet\", \"Ford\", \"Toyota\")') \\\r\n",
    "            .get(['Make' ,'adjusted_price'])\r\n",
    "sns.set(rc={'figure.figsize': (15, 10)}) # Sets the figure size for Seaborn\r\n",
    "sns.histplot(data=temp_df,\r\n",
    "             x='adjusted_price',\r\n",
    "             hue='Make')"
   ],
   "outputs": [],
   "metadata": {}
  },
  {
   "cell_type": "markdown",
   "source": [
    "# Remake the same histogram, but limit the x-axis from 0 to 100,000"
   ],
   "metadata": {}
  },
  {
   "cell_type": "code",
   "execution_count": null,
   "source": [
    "# Remake the same histogram, but limit the x-axis from 0 to 100,000\r\n",
    "\r\n",
    "sns.histplot(data=temp_df,\r\n",
    "             x='adjusted_price',\r\n",
    "             hue='Make') \\\r\n",
    "   .set_xlim(left=0,\r\n",
    "             right=100000)"
   ],
   "outputs": [],
   "metadata": {}
  },
  {
   "cell_type": "markdown",
   "source": [
    "# Plot the relationship between Engine HP and highway MPG"
   ],
   "metadata": {}
  },
  {
   "cell_type": "code",
   "execution_count": null,
   "source": [
    "# Plot the relationship between Engine HP and highway MPG\r\n",
    "\r\n",
    "sns.scatterplot(data=df,\r\n",
    "                x='highway MPG',\r\n",
    "                y='Engine HP')"
   ],
   "outputs": [],
   "metadata": {}
  },
  {
   "cell_type": "markdown",
   "source": [
    "# Using `sns.boxplot`, create a boxplot for the 'Engine HP'"
   ],
   "metadata": {}
  },
  {
   "cell_type": "code",
   "execution_count": null,
   "source": [
    "# create a boxplot for the 'Engine HP'\r\n",
    "\r\n",
    "sns.boxplot(data=df,\r\n",
    "            x='Engine HP')"
   ],
   "outputs": [],
   "metadata": {}
  },
  {
   "cell_type": "markdown",
   "source": [
    "# Make another boxplot for highway MPG"
   ],
   "metadata": {}
  },
  {
   "cell_type": "code",
   "execution_count": null,
   "source": [
    "# create a boxplot for the 'highway MPG'\r\n",
    "\r\n",
    "sns.boxplot(data=df,\r\n",
    "            x='highway MPG')"
   ],
   "outputs": [],
   "metadata": {}
  },
  {
   "cell_type": "markdown",
   "source": [
    "# Remove any  outliers from Engine HP and highway MPG \n",
    "\n",
    "<img src='https://miro.medium.com/max/1400/1*2c21SkzJMf3frPXPAR_gZA.png' width=500>\n",
    "\n",
    "* Outliers meaning values that are outside 1.5x the Inter Quartile Range (see image above).\n",
    "* For each column (Engine HP and highway MPG):\n",
    "* Calculate the 0.25 and 0.75 Quantiles\n",
    "* Calculate the Inter Quartile Range (IQR)\n",
    "* Create condition mask for the values that are outliers below (in the 'Minimum' range).\n",
    "* Create condition mask for the values that are outliers above (in the 'Maximum' range).\n",
    "* Filter the dataframe to remove any values that are in the above section _OR_ the below section. (hint; it may be easier to use the inverse selection '~'.\n",
    "* Make the same boxplots of Engine HP and Highway MPG as before but with the this dataframe."
   ],
   "metadata": {}
  },
  {
   "cell_type": "code",
   "execution_count": null,
   "source": [
    "# Remove any  outliers from Engine HP and highway MPG \r\n",
    "\r\n",
    "def remove_outliers_from(column_name):\r\n",
    "    def remove_outliers_in(df):\r\n",
    "        column = df[column_name]\r\n",
    "        q1, q3 = column.quantile([0.25, 0.75])\r\n",
    "        iqr = q3 - q1\r\n",
    "        return df[(q1 - 1.5 * iqr <= column) & \\\r\n",
    "                  (column <= q3 + 1.5 * iqr)]\r\n",
    "    return remove_outliers_in\r\n",
    "\r\n",
    "remove_outliers = partial(pipe, # Create a function from the following pipeline.\r\n",
    "                          [remove_outliers_from('Engine HP'),\r\n",
    "                           remove_outliers_from('highway MPG')])\r\n",
    "\r\n",
    "df = remove_outliers(df)"
   ],
   "outputs": [],
   "metadata": {}
  },
  {
   "cell_type": "markdown",
   "source": [
    "# Remake the boxplots for both Engine HP and highway MPG\n"
   ],
   "metadata": {}
  },
  {
   "cell_type": "code",
   "execution_count": null,
   "source": [
    "# Engine HP boxplot\r\n",
    "sns.boxplot(data=df,\r\n",
    "            x='Engine HP')"
   ],
   "outputs": [],
   "metadata": {}
  },
  {
   "cell_type": "code",
   "execution_count": null,
   "source": [
    "# highway MPG boxplot\r\n",
    "\r\n",
    "sns.boxplot(data=df,\r\n",
    "            x='highway MPG')"
   ],
   "outputs": [],
   "metadata": {}
  },
  {
   "cell_type": "markdown",
   "source": [
    "# Make a scatter plot of Engine HP vs highway MPG"
   ],
   "metadata": {}
  },
  {
   "cell_type": "code",
   "execution_count": null,
   "source": [
    "# Make a scatter plot of Engine HP vs highway MPG\r\n",
    "\r\n",
    "sns.scatterplot(data=df,\r\n",
    "                x='highway MPG',\r\n",
    "                y='Engine HP')"
   ],
   "outputs": [],
   "metadata": {}
  },
  {
   "cell_type": "markdown",
   "source": [
    "# What does this plot tell you about how Engine HP affects highway MPG?"
   ],
   "metadata": {}
  },
  {
   "cell_type": "code",
   "execution_count": null,
   "source": [
    "# What does this plot tell you about how Engine HP affects highway MPG?\r\n",
    "\r\n",
    "print('Engine HP appears to be inversely correlated to highway MPG; the greater the highway MPG, the lowest the engine HP. However, the correlation is not very strong.')"
   ],
   "outputs": [],
   "metadata": {}
  },
  {
   "cell_type": "markdown",
   "source": [
    "# Using a pairplot, display all of the linear relationship.\n",
    "* Which variables look like they have the strongest linear relationship (Besides MSRP and adjusted_price)."
   ],
   "metadata": {}
  },
  {
   "cell_type": "code",
   "execution_count": null,
   "source": [
    "# Using a pairplot, display all of the linear relationship.\r\n",
    "\r\n",
    "sns.pairplot(df);"
   ],
   "outputs": [],
   "metadata": {}
  },
  {
   "cell_type": "code",
   "execution_count": null,
   "source": [
    "# * Which variables look like they have the strongest linear relationship (Besides MSRP and adjusted_price).\r\n",
    "\r\n",
    "df.corr() \\\r\n",
    "  .reset_index() \\\r\n",
    "  .melt(id_vars=['index'], # Unpivots the correlation table\r\n",
    "        var_name='index2', # Column headings become second index (the other variable)\r\n",
    "        value_name='correlation') \\\r\n",
    "  .query('index != index2') \\\r\n",
    "  .apply(lambda row: pd.Series(sorted(row[0:2]), # Puts the 2 variables into alphabetical order\r\n",
    "                               index=['variable1', 'variable2']) # to help with duplicate removal\r\n",
    "                       .append(row[2:]), # Merges the remainder of the columns back into the row\r\n",
    "         axis=1) \\\r\n",
    "  .drop_duplicates() \\\r\n",
    "  .set_index(['variable1', 'variable2']) \\\r\n",
    "  .sort_values(by='correlation', # Rows ordered by the absolute value of the correlations\r\n",
    "               key=pd.DataFrame.abs,\r\n",
    "               ascending=False) \\\r\n",
    "  .head(10)"
   ],
   "outputs": [],
   "metadata": {}
  },
  {
   "cell_type": "markdown",
   "source": [
    "# Find which features actually have the strongest linear relationship using correlations.\n",
    "* Make a heatmap plot of all of the correlations in our dataset.\n",
    "* Change the figure size of our heatmap plot to be 8x8\n",
    "* __Which feature does Engine HP have the strongest relationship with, and why do you think that relationship exists.__"
   ],
   "metadata": {}
  },
  {
   "cell_type": "code",
   "execution_count": null,
   "source": [
    "# * Make a heatmap plot of all of the correlations in our dataset.\r\n",
    "# * Change the figure size of our heatmap plot to be 8x8\r\n",
    "\r\n",
    "sns.heatmap(df.corr(),\r\n",
    "            annot=True,\r\n",
    "            cmap='coolwarm')"
   ],
   "outputs": [],
   "metadata": {}
  },
  {
   "cell_type": "code",
   "execution_count": null,
   "source": [
    "# Which feature does Engine HP have the strongest relationship with, and why do you think that relationship exists.\r\n",
    "\r\n",
    "print('The number of engine cylinders contributes to engine HP.')"
   ],
   "outputs": [],
   "metadata": {}
  },
  {
   "cell_type": "markdown",
   "source": [
    "# [EXTRA CREDIT] \n",
    "* In the column names, replace all the spaces with an underscore, and make them all lowercase as well\n"
   ],
   "metadata": {}
  },
  {
   "cell_type": "code",
   "execution_count": null,
   "source": [
    "# * In the column names, replace all the spaces with an underscore, and make them all lowercase as well\r\n",
    "\r\n",
    "df.columns = df.columns \\\r\n",
    "               .str.lower() \\\r\n",
    "               .str.replace(' ', '_')"
   ],
   "outputs": [],
   "metadata": {}
  },
  {
   "cell_type": "code",
   "execution_count": null,
   "source": [
    "df"
   ],
   "outputs": [],
   "metadata": {}
  }
 ],
 "metadata": {
  "interpreter": {
   "hash": "b3ba2566441a7c06988d0923437866b63cedc61552a5af99d1f4fb67d367b25f"
  },
  "kernelspec": {
   "name": "python3",
   "display_name": "Python 3.8.8 64-bit (conda)"
  },
  "language_info": {
   "codemirror_mode": {
    "name": "ipython",
    "version": 3
   },
   "file_extension": ".py",
   "mimetype": "text/x-python",
   "name": "python",
   "nbconvert_exporter": "python",
   "pygments_lexer": "ipython3",
   "version": "3.8.8"
  }
 },
 "nbformat": 4,
 "nbformat_minor": 2
}